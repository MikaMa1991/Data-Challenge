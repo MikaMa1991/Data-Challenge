{
 "cells": [
  {
   "cell_type": "code",
   "execution_count": 1,
   "id": "819e8310",
   "metadata": {},
   "outputs": [
    {
     "name": "stderr",
     "output_type": "stream",
     "text": [
      "C:\\Users\\yijia\\anaconda3\\envs\\py3-TF2.0\\lib\\site-packages\\xgboost\\compat.py:36: FutureWarning: pandas.Int64Index is deprecated and will be removed from pandas in a future version. Use pandas.Index with the appropriate dtype instead.\n",
      "  from pandas import MultiIndex, Int64Index\n"
     ]
    },
    {
     "data": {
      "text/html": [
       "        <script type=\"text/javascript\">\n",
       "        window.PlotlyConfig = {MathJaxConfig: 'local'};\n",
       "        if (window.MathJax) {MathJax.Hub.Config({SVG: {font: \"STIX-Web\"}});}\n",
       "        if (typeof require !== 'undefined') {\n",
       "        require.undef(\"plotly\");\n",
       "        requirejs.config({\n",
       "            paths: {\n",
       "                'plotly': ['https://cdn.plot.ly/plotly-2.2.0.min']\n",
       "            }\n",
       "        });\n",
       "        require(['plotly'], function(Plotly) {\n",
       "            window._Plotly = Plotly;\n",
       "        });\n",
       "        }\n",
       "        </script>\n",
       "        "
      ]
     },
     "metadata": {},
     "output_type": "display_data"
    },
    {
     "data": {
      "text/html": [
       "        <script type=\"text/javascript\">\n",
       "        window.PlotlyConfig = {MathJaxConfig: 'local'};\n",
       "        if (window.MathJax) {MathJax.Hub.Config({SVG: {font: \"STIX-Web\"}});}\n",
       "        if (typeof require !== 'undefined') {\n",
       "        require.undef(\"plotly\");\n",
       "        requirejs.config({\n",
       "            paths: {\n",
       "                'plotly': ['https://cdn.plot.ly/plotly-2.2.0.min']\n",
       "            }\n",
       "        });\n",
       "        require(['plotly'], function(Plotly) {\n",
       "            window._Plotly = Plotly;\n",
       "        });\n",
       "        }\n",
       "        </script>\n",
       "        "
      ]
     },
     "metadata": {},
     "output_type": "display_data"
    },
    {
     "data": {
      "text/html": [
       "        <script type=\"text/javascript\">\n",
       "        window.PlotlyConfig = {MathJaxConfig: 'local'};\n",
       "        if (window.MathJax) {MathJax.Hub.Config({SVG: {font: \"STIX-Web\"}});}\n",
       "        if (typeof require !== 'undefined') {\n",
       "        require.undef(\"plotly\");\n",
       "        requirejs.config({\n",
       "            paths: {\n",
       "                'plotly': ['https://cdn.plot.ly/plotly-2.2.0.min']\n",
       "            }\n",
       "        });\n",
       "        require(['plotly'], function(Plotly) {\n",
       "            window._Plotly = Plotly;\n",
       "        });\n",
       "        }\n",
       "        </script>\n",
       "        "
      ]
     },
     "metadata": {},
     "output_type": "display_data"
    }
   ],
   "source": [
    "# Importing all the necessary libraries\n",
    "import numpy as np\n",
    "import pandas as pd\n",
    "from collections import Counter\n",
    "from datetime import datetime\n",
    "from sklearn.experimental import enable_iterative_imputer\n",
    "from sklearn.impute import SimpleImputer, KNNImputer, IterativeImputer\n",
    "from sklearn.preprocessing import MinMaxScaler\n",
    "from sklearn.ensemble import RandomForestClassifier\n",
    "import seaborn as sns\n",
    "from scipy.stats import ttest_ind\n",
    "import matplotlib.pyplot as plt\n",
    "from sklearn.feature_selection import RFE\n",
    "from sklearn.linear_model import LogisticRegression\n",
    "from sklearn.feature_selection import SelectFromModel\n",
    "from sklearn.linear_model import Lasso\n",
    "import xgboost\n",
    "from xgboost import plot_importance\n",
    "from xgboost import XGBClassifier\n",
    "import time\n",
    "from sklearn.model_selection import GridSearchCV\n",
    "from sklearn.model_selection import RandomizedSearchCV\n",
    "from sklearn.metrics import mean_squared_error\n",
    "from sklearn.metrics import auc, roc_curve, classification_report\n",
    "import math\n",
    "from sklearn.model_selection import RepeatedKFold\n",
    "from sklearn.neighbors import KNeighborsRegressor\n",
    "from sklearn.tree import DecisionTreeRegressor\n",
    "from sklearn.ensemble import StackingRegressor\n",
    "from sklearn.linear_model import Ridge\n",
    "from sklearn.linear_model import Lasso\n",
    "from sklearn.linear_model import ElasticNet\n",
    "\n",
    "#import sys\n",
    "#!{sys.executable} -m pip install cufflinks\n",
    "import plotly\n",
    "import plotly.offline as py\n",
    "py.init_notebook_mode(connected=True)\n",
    "from plotly.offline import init_notebook_mode, iplot\n",
    "init_notebook_mode(connected=True)\n",
    "import plotly.graph_objs as go\n",
    "import plotly.offline as offline\n",
    "# import cufflinks and offline mode\n",
    "import cufflinks as cf\n",
    "cf.go_offline()\n",
    "\n",
    "from imblearn.over_sampling import SMOTE\n",
    "from imblearn.over_sampling import SMOTENC\n",
    "from collections import Counter\n",
    "\n",
    "from sklearn.model_selection import GridSearchCV\n",
    "from keras.models import Sequential\n",
    "from keras.layers import Dense\n",
    "from keras.layers import Dropout\n",
    "from keras.wrappers.scikit_learn import KerasClassifier\n",
    "from keras.constraints import maxnorm\n",
    "from keras.callbacks import EarlyStopping"
   ]
  },
  {
   "cell_type": "code",
   "execution_count": 2,
   "id": "a0d4f61d",
   "metadata": {},
   "outputs": [],
   "source": [
    "user = pd.read_csv('user_table.csv')\n",
    "data = pd.read_csv('test_table.csv')"
   ]
  },
  {
   "cell_type": "code",
   "execution_count": 3,
   "id": "21f1c92e",
   "metadata": {},
   "outputs": [
    {
     "data": {
      "text/html": [
       "<div>\n",
       "<style scoped>\n",
       "    .dataframe tbody tr th:only-of-type {\n",
       "        vertical-align: middle;\n",
       "    }\n",
       "\n",
       "    .dataframe tbody tr th {\n",
       "        vertical-align: top;\n",
       "    }\n",
       "\n",
       "    .dataframe thead th {\n",
       "        text-align: right;\n",
       "    }\n",
       "</style>\n",
       "<table border=\"1\" class=\"dataframe\">\n",
       "  <thead>\n",
       "    <tr style=\"text-align: right;\">\n",
       "      <th></th>\n",
       "      <th>user_id</th>\n",
       "      <th>sex</th>\n",
       "      <th>age</th>\n",
       "      <th>country</th>\n",
       "    </tr>\n",
       "  </thead>\n",
       "  <tbody>\n",
       "    <tr>\n",
       "      <th>0</th>\n",
       "      <td>765821</td>\n",
       "      <td>M</td>\n",
       "      <td>20</td>\n",
       "      <td>Mexico</td>\n",
       "    </tr>\n",
       "    <tr>\n",
       "      <th>1</th>\n",
       "      <td>343561</td>\n",
       "      <td>F</td>\n",
       "      <td>27</td>\n",
       "      <td>Nicaragua</td>\n",
       "    </tr>\n",
       "    <tr>\n",
       "      <th>2</th>\n",
       "      <td>118744</td>\n",
       "      <td>M</td>\n",
       "      <td>23</td>\n",
       "      <td>Colombia</td>\n",
       "    </tr>\n",
       "    <tr>\n",
       "      <th>3</th>\n",
       "      <td>987753</td>\n",
       "      <td>F</td>\n",
       "      <td>27</td>\n",
       "      <td>Venezuela</td>\n",
       "    </tr>\n",
       "    <tr>\n",
       "      <th>4</th>\n",
       "      <td>554597</td>\n",
       "      <td>F</td>\n",
       "      <td>20</td>\n",
       "      <td>Spain</td>\n",
       "    </tr>\n",
       "  </tbody>\n",
       "</table>\n",
       "</div>"
      ],
      "text/plain": [
       "   user_id sex  age    country\n",
       "0   765821   M   20     Mexico\n",
       "1   343561   F   27  Nicaragua\n",
       "2   118744   M   23   Colombia\n",
       "3   987753   F   27  Venezuela\n",
       "4   554597   F   20      Spain"
      ]
     },
     "execution_count": 3,
     "metadata": {},
     "output_type": "execute_result"
    }
   ],
   "source": [
    "user.head()"
   ]
  },
  {
   "cell_type": "code",
   "execution_count": 4,
   "id": "dc9c8194",
   "metadata": {},
   "outputs": [
    {
     "data": {
      "text/html": [
       "<div>\n",
       "<style scoped>\n",
       "    .dataframe tbody tr th:only-of-type {\n",
       "        vertical-align: middle;\n",
       "    }\n",
       "\n",
       "    .dataframe tbody tr th {\n",
       "        vertical-align: top;\n",
       "    }\n",
       "\n",
       "    .dataframe thead th {\n",
       "        text-align: right;\n",
       "    }\n",
       "</style>\n",
       "<table border=\"1\" class=\"dataframe\">\n",
       "  <thead>\n",
       "    <tr style=\"text-align: right;\">\n",
       "      <th></th>\n",
       "      <th>user_id</th>\n",
       "      <th>date</th>\n",
       "      <th>source</th>\n",
       "      <th>device</th>\n",
       "      <th>browser_language</th>\n",
       "      <th>ads_channel</th>\n",
       "      <th>browser</th>\n",
       "      <th>conversion</th>\n",
       "      <th>test</th>\n",
       "    </tr>\n",
       "  </thead>\n",
       "  <tbody>\n",
       "    <tr>\n",
       "      <th>0</th>\n",
       "      <td>315281</td>\n",
       "      <td>2015-12-03</td>\n",
       "      <td>Direct</td>\n",
       "      <td>Web</td>\n",
       "      <td>ES</td>\n",
       "      <td>NaN</td>\n",
       "      <td>IE</td>\n",
       "      <td>1</td>\n",
       "      <td>0</td>\n",
       "    </tr>\n",
       "    <tr>\n",
       "      <th>1</th>\n",
       "      <td>497851</td>\n",
       "      <td>2015-12-04</td>\n",
       "      <td>Ads</td>\n",
       "      <td>Web</td>\n",
       "      <td>ES</td>\n",
       "      <td>Google</td>\n",
       "      <td>IE</td>\n",
       "      <td>0</td>\n",
       "      <td>1</td>\n",
       "    </tr>\n",
       "    <tr>\n",
       "      <th>2</th>\n",
       "      <td>848402</td>\n",
       "      <td>2015-12-04</td>\n",
       "      <td>Ads</td>\n",
       "      <td>Web</td>\n",
       "      <td>ES</td>\n",
       "      <td>Facebook</td>\n",
       "      <td>Chrome</td>\n",
       "      <td>0</td>\n",
       "      <td>0</td>\n",
       "    </tr>\n",
       "    <tr>\n",
       "      <th>3</th>\n",
       "      <td>290051</td>\n",
       "      <td>2015-12-03</td>\n",
       "      <td>Ads</td>\n",
       "      <td>Mobile</td>\n",
       "      <td>Other</td>\n",
       "      <td>Facebook</td>\n",
       "      <td>Android_App</td>\n",
       "      <td>0</td>\n",
       "      <td>1</td>\n",
       "    </tr>\n",
       "    <tr>\n",
       "      <th>4</th>\n",
       "      <td>548435</td>\n",
       "      <td>2015-11-30</td>\n",
       "      <td>Ads</td>\n",
       "      <td>Web</td>\n",
       "      <td>ES</td>\n",
       "      <td>Google</td>\n",
       "      <td>FireFox</td>\n",
       "      <td>0</td>\n",
       "      <td>1</td>\n",
       "    </tr>\n",
       "  </tbody>\n",
       "</table>\n",
       "</div>"
      ],
      "text/plain": [
       "   user_id        date  source  device browser_language ads_channel  \\\n",
       "0   315281  2015-12-03  Direct     Web               ES         NaN   \n",
       "1   497851  2015-12-04     Ads     Web               ES      Google   \n",
       "2   848402  2015-12-04     Ads     Web               ES    Facebook   \n",
       "3   290051  2015-12-03     Ads  Mobile            Other    Facebook   \n",
       "4   548435  2015-11-30     Ads     Web               ES      Google   \n",
       "\n",
       "       browser  conversion  test  \n",
       "0           IE           1     0  \n",
       "1           IE           0     1  \n",
       "2       Chrome           0     0  \n",
       "3  Android_App           0     1  \n",
       "4      FireFox           0     1  "
      ]
     },
     "execution_count": 4,
     "metadata": {},
     "output_type": "execute_result"
    }
   ],
   "source": [
    "data.head()"
   ]
  },
  {
   "cell_type": "markdown",
   "id": "82e46360",
   "metadata": {},
   "source": [
    "### Goal\n",
    "Company XYZ is a worldwide e-commerce site with localized versions of the site.\n",
    "A data scientist at XYZ noticed that Spain-based users have a much higher conversion rate than\n",
    "any other Spanish-speaking country. She therefore went and talked to the international team in\n",
    "charge of Spain And LatAm to see if they had any ideas about why that was happening.\n",
    "\n",
    "Spain and LatAm country manager suggested that one reason could be translation. All Spanish-speaking countries had the same translation of the site which was written by a Spaniard. They agreed to try a test where each country would have its one translation written by a local. That is, Argentinian users would see a translation written by an Argentinian, Mexican users by a Mexican and so on. Obviously, nothing would change for users from Spain.\n",
    "\n",
    "After they run the test however, they are really surprised cause the test is negative. I.e., it\n",
    "appears that the non-localized translation was doing better!\n",
    "\n",
    "You are asked to:\n",
    "\n",
    "- Confirm that the test is actually negative. That is, it appears that the old version of the \n",
    "site with just one translation across Spain and LatAm performs better\n",
    "- Explain why that might be happening. Are the localized translations really worse?\n",
    "- If you identified what was wrong, design an algorithm that would return FALSE if the\n",
    "same problem is happening in the future and TRUE if everything is good and the results\n",
    "can be trusted"
   ]
  },
  {
   "cell_type": "code",
   "execution_count": 5,
   "id": "c227737a",
   "metadata": {},
   "outputs": [
    {
     "name": "stdout",
     "output_type": "stream",
     "text": [
      "There is no duplicates in test table:  True\n",
      "There is no  duplicates in user table:  True\n"
     ]
    }
   ],
   "source": [
    "# check duplicates\n",
    "print (\"There is no duplicates in test table: \", data['user_id'].nunique() == data.shape[0])\n",
    "print (\"There is no  duplicates in user table: \", user['user_id'].nunique() == user.shape[0])"
   ]
  },
  {
   "cell_type": "code",
   "execution_count": 6,
   "id": "3078a759",
   "metadata": {},
   "outputs": [
    {
     "data": {
      "text/plain": [
       "454"
      ]
     },
     "execution_count": 6,
     "metadata": {},
     "output_type": "execute_result"
    }
   ],
   "source": [
    "# check if everyone in one table also in other one?\n",
    "data.user_id.nunique()-user.user_id.nunique()"
   ]
  },
  {
   "cell_type": "code",
   "execution_count": 7,
   "id": "e88e4de4",
   "metadata": {},
   "outputs": [],
   "source": [
    "# Merge two dataframe\n",
    "df = pd.merge(left = data, right = user, how = 'left', on = 'user_id')\n",
    "# or df = data.merge(user, on = 'user_id', how = 'left')\n"
   ]
  },
  {
   "cell_type": "code",
   "execution_count": 8,
   "id": "44fe14e2",
   "metadata": {},
   "outputs": [
    {
     "data": {
      "text/html": [
       "<div>\n",
       "<style scoped>\n",
       "    .dataframe tbody tr th:only-of-type {\n",
       "        vertical-align: middle;\n",
       "    }\n",
       "\n",
       "    .dataframe tbody tr th {\n",
       "        vertical-align: top;\n",
       "    }\n",
       "\n",
       "    .dataframe thead th {\n",
       "        text-align: right;\n",
       "    }\n",
       "</style>\n",
       "<table border=\"1\" class=\"dataframe\">\n",
       "  <thead>\n",
       "    <tr style=\"text-align: right;\">\n",
       "      <th></th>\n",
       "      <th>user_id</th>\n",
       "      <th>date</th>\n",
       "      <th>source</th>\n",
       "      <th>device</th>\n",
       "      <th>browser_language</th>\n",
       "      <th>ads_channel</th>\n",
       "      <th>browser</th>\n",
       "      <th>conversion</th>\n",
       "      <th>test</th>\n",
       "      <th>sex</th>\n",
       "      <th>age</th>\n",
       "      <th>country</th>\n",
       "    </tr>\n",
       "  </thead>\n",
       "  <tbody>\n",
       "    <tr>\n",
       "      <th>0</th>\n",
       "      <td>315281</td>\n",
       "      <td>2015-12-03</td>\n",
       "      <td>Direct</td>\n",
       "      <td>Web</td>\n",
       "      <td>ES</td>\n",
       "      <td>NaN</td>\n",
       "      <td>IE</td>\n",
       "      <td>1</td>\n",
       "      <td>0</td>\n",
       "      <td>M</td>\n",
       "      <td>32.0</td>\n",
       "      <td>Spain</td>\n",
       "    </tr>\n",
       "    <tr>\n",
       "      <th>1</th>\n",
       "      <td>497851</td>\n",
       "      <td>2015-12-04</td>\n",
       "      <td>Ads</td>\n",
       "      <td>Web</td>\n",
       "      <td>ES</td>\n",
       "      <td>Google</td>\n",
       "      <td>IE</td>\n",
       "      <td>0</td>\n",
       "      <td>1</td>\n",
       "      <td>M</td>\n",
       "      <td>21.0</td>\n",
       "      <td>Mexico</td>\n",
       "    </tr>\n",
       "    <tr>\n",
       "      <th>2</th>\n",
       "      <td>848402</td>\n",
       "      <td>2015-12-04</td>\n",
       "      <td>Ads</td>\n",
       "      <td>Web</td>\n",
       "      <td>ES</td>\n",
       "      <td>Facebook</td>\n",
       "      <td>Chrome</td>\n",
       "      <td>0</td>\n",
       "      <td>0</td>\n",
       "      <td>M</td>\n",
       "      <td>34.0</td>\n",
       "      <td>Spain</td>\n",
       "    </tr>\n",
       "    <tr>\n",
       "      <th>3</th>\n",
       "      <td>290051</td>\n",
       "      <td>2015-12-03</td>\n",
       "      <td>Ads</td>\n",
       "      <td>Mobile</td>\n",
       "      <td>Other</td>\n",
       "      <td>Facebook</td>\n",
       "      <td>Android_App</td>\n",
       "      <td>0</td>\n",
       "      <td>1</td>\n",
       "      <td>F</td>\n",
       "      <td>22.0</td>\n",
       "      <td>Mexico</td>\n",
       "    </tr>\n",
       "    <tr>\n",
       "      <th>4</th>\n",
       "      <td>548435</td>\n",
       "      <td>2015-11-30</td>\n",
       "      <td>Ads</td>\n",
       "      <td>Web</td>\n",
       "      <td>ES</td>\n",
       "      <td>Google</td>\n",
       "      <td>FireFox</td>\n",
       "      <td>0</td>\n",
       "      <td>1</td>\n",
       "      <td>M</td>\n",
       "      <td>19.0</td>\n",
       "      <td>Mexico</td>\n",
       "    </tr>\n",
       "  </tbody>\n",
       "</table>\n",
       "</div>"
      ],
      "text/plain": [
       "   user_id        date  source  device browser_language ads_channel  \\\n",
       "0   315281  2015-12-03  Direct     Web               ES         NaN   \n",
       "1   497851  2015-12-04     Ads     Web               ES      Google   \n",
       "2   848402  2015-12-04     Ads     Web               ES    Facebook   \n",
       "3   290051  2015-12-03     Ads  Mobile            Other    Facebook   \n",
       "4   548435  2015-11-30     Ads     Web               ES      Google   \n",
       "\n",
       "       browser  conversion  test sex   age country  \n",
       "0           IE           1     0   M  32.0   Spain  \n",
       "1           IE           0     1   M  21.0  Mexico  \n",
       "2       Chrome           0     0   M  34.0   Spain  \n",
       "3  Android_App           0     1   F  22.0  Mexico  \n",
       "4      FireFox           0     1   M  19.0  Mexico  "
      ]
     },
     "execution_count": 8,
     "metadata": {},
     "output_type": "execute_result"
    }
   ],
   "source": [
    "df.head()"
   ]
  },
  {
   "cell_type": "code",
   "execution_count": 9,
   "id": "e8f35148",
   "metadata": {},
   "outputs": [
    {
     "data": {
      "text/html": [
       "<div>\n",
       "<style scoped>\n",
       "    .dataframe tbody tr th:only-of-type {\n",
       "        vertical-align: middle;\n",
       "    }\n",
       "\n",
       "    .dataframe tbody tr th {\n",
       "        vertical-align: top;\n",
       "    }\n",
       "\n",
       "    .dataframe thead th {\n",
       "        text-align: right;\n",
       "    }\n",
       "</style>\n",
       "<table border=\"1\" class=\"dataframe\">\n",
       "  <thead>\n",
       "    <tr style=\"text-align: right;\">\n",
       "      <th></th>\n",
       "      <th>count</th>\n",
       "      <th>mean</th>\n",
       "      <th>std</th>\n",
       "      <th>min</th>\n",
       "      <th>25%</th>\n",
       "      <th>50%</th>\n",
       "      <th>75%</th>\n",
       "      <th>max</th>\n",
       "    </tr>\n",
       "  </thead>\n",
       "  <tbody>\n",
       "    <tr>\n",
       "      <th>user_id</th>\n",
       "      <td>453321.0</td>\n",
       "      <td>499937.514728</td>\n",
       "      <td>288665.193436</td>\n",
       "      <td>1.0</td>\n",
       "      <td>249816.0</td>\n",
       "      <td>500019.0</td>\n",
       "      <td>749522.0</td>\n",
       "      <td>1000000.0</td>\n",
       "    </tr>\n",
       "    <tr>\n",
       "      <th>conversion</th>\n",
       "      <td>453321.0</td>\n",
       "      <td>0.049579</td>\n",
       "      <td>0.217073</td>\n",
       "      <td>0.0</td>\n",
       "      <td>0.0</td>\n",
       "      <td>0.0</td>\n",
       "      <td>0.0</td>\n",
       "      <td>1.0</td>\n",
       "    </tr>\n",
       "    <tr>\n",
       "      <th>test</th>\n",
       "      <td>453321.0</td>\n",
       "      <td>0.476446</td>\n",
       "      <td>0.499445</td>\n",
       "      <td>0.0</td>\n",
       "      <td>0.0</td>\n",
       "      <td>0.0</td>\n",
       "      <td>1.0</td>\n",
       "      <td>1.0</td>\n",
       "    </tr>\n",
       "    <tr>\n",
       "      <th>age</th>\n",
       "      <td>452867.0</td>\n",
       "      <td>27.130740</td>\n",
       "      <td>6.776678</td>\n",
       "      <td>18.0</td>\n",
       "      <td>22.0</td>\n",
       "      <td>26.0</td>\n",
       "      <td>31.0</td>\n",
       "      <td>70.0</td>\n",
       "    </tr>\n",
       "  </tbody>\n",
       "</table>\n",
       "</div>"
      ],
      "text/plain": [
       "               count           mean            std   min       25%       50%  \\\n",
       "user_id     453321.0  499937.514728  288665.193436   1.0  249816.0  500019.0   \n",
       "conversion  453321.0       0.049579       0.217073   0.0       0.0       0.0   \n",
       "test        453321.0       0.476446       0.499445   0.0       0.0       0.0   \n",
       "age         452867.0      27.130740       6.776678  18.0      22.0      26.0   \n",
       "\n",
       "                 75%        max  \n",
       "user_id     749522.0  1000000.0  \n",
       "conversion       0.0        1.0  \n",
       "test             1.0        1.0  \n",
       "age             31.0       70.0  "
      ]
     },
     "execution_count": 9,
     "metadata": {},
     "output_type": "execute_result"
    }
   ],
   "source": [
    "df.describe().transpose()"
   ]
  },
  {
   "cell_type": "code",
   "execution_count": 10,
   "id": "f1c60aa3",
   "metadata": {},
   "outputs": [
    {
     "name": "stdout",
     "output_type": "stream",
     "text": [
      "date                 5\t ['2015-12-03' '2015-12-04' '2015-11-30' '2015-12-01' '2015-12-02']\n",
      "source               3\t ['Direct' 'Ads' 'SEO']\n",
      "device               2\t ['Web' 'Mobile']\n",
      "browser_language     3\t ['ES' 'Other' 'EN']\n",
      "ads_channel          6\t [nan 'Google' 'Facebook' 'Bing' 'Yahoo' 'Other']\n",
      "browser              7\t ['IE' 'Chrome' 'Android_App' 'FireFox' 'Iphone_App' 'Safari' 'Opera']\n",
      "sex                  3\t ['M' 'F' nan]\n",
      "country             18\t ['Spain' 'Mexico' 'Venezuela' 'Bolivia' 'Colombia' 'Uruguay' 'El Salvador'\n",
      " 'Nicaragua' 'Peru' 'Costa Rica' 'Chile' 'Argentina' 'Ecuador' 'Guatemala'\n",
      " 'Honduras' 'Paraguay' 'Panama' nan]\n"
     ]
    }
   ],
   "source": [
    "for col in df.select_dtypes(include='object'):\n",
    "    uniques = df[col].unique()\n",
    "    print('{0:20s}{1:2d}\\t'.format(col, len(uniques)), uniques)"
   ]
  },
  {
   "cell_type": "markdown",
   "id": "ffc225ba",
   "metadata": {},
   "source": [
    "### A/B Test"
   ]
  },
  {
   "cell_type": "markdown",
   "id": "939f2129",
   "metadata": {},
   "source": [
    "#####  1. check whether spain converts better than the rest of LatAm countries"
   ]
  },
  {
   "cell_type": "code",
   "execution_count": 11,
   "id": "3aee34f7",
   "metadata": {},
   "outputs": [],
   "source": [
    "# control group: test == 0\n",
    "groupby_country = df[df['test']==0].groupby('country')['conversion'].mean()\n",
    "groupby_country = groupby_country.reset_index()\n",
    "groupby_country = groupby_country.sort_values('conversion', ascending = False)"
   ]
  },
  {
   "cell_type": "code",
   "execution_count": 12,
   "id": "0d2f65d4",
   "metadata": {},
   "outputs": [
    {
     "data": {
      "image/png": "[encoded data removed]",
      "text/plain": [
       "<Figure size 1296x432 with 1 Axes>"
      ]
     },
     "metadata": {
      "needs_background": "light"
     },
     "output_type": "display_data"
    }
   ],
   "source": [
    "fig, ax = plt.subplots(figsize = (18, 6))\n",
    "sns.barplot(x = 'country', y = 'conversion', data = groupby_country, ax = ax)\n",
    "plt.show()"
   ]
  },
  {
   "cell_type": "markdown",
   "id": "2531b62d",
   "metadata": {},
   "source": [
    "It looks like spain convert at least 2% more than the rest of LatAm countries"
   ]
  },
  {
   "cell_type": "code",
   "execution_count": 13,
   "id": "65fd1950",
   "metadata": {},
   "outputs": [
    {
     "data": {
      "image/png": "[encoded data removed]",
      "text/plain": [
       "<Figure size 1296x432 with 1 Axes>"
      ]
     },
     "metadata": {
      "needs_background": "light"
     },
     "output_type": "display_data"
    }
   ],
   "source": [
    "fig = plt.figure(figsize = (18, 6))\n",
    "sns.barplot(x = 'country', y = 'conversion', hue = 'test', data = df)\n",
    "plt.show()"
   ]
  },
  {
   "cell_type": "code",
   "execution_count": 14,
   "id": "ed072e06",
   "metadata": {},
   "outputs": [
    {
     "name": "stdout",
     "output_type": "stream",
     "text": [
      "Mean conversion rate of control group: 0.04833042316066309\n",
      "Mean conversion rate of test group: 0.043424713982118966\n"
     ]
    }
   ],
   "source": [
    "#========================================================\n",
    "# Two sample t-TEST\n",
    "#========================================================\n",
    "test_data = df[df['country']!='Spain'] #nothing changed in Spain, so no point in keeping those users\n",
    "orig = test_data[test_data['test']==0]['conversion'].values\n",
    "after = test_data[test_data['test']==1]['conversion'].values\n",
    "print(\"Mean conversion rate of control group:\", orig.mean())\n",
    "print(\"Mean conversion rate of test group:\", after.mean())\n"
   ]
  },
  {
   "cell_type": "code",
   "execution_count": 15,
   "id": "63d09b98",
   "metadata": {},
   "outputs": [
    {
     "name": "stdout",
     "output_type": "stream",
     "text": [
      "ShapiroResult(statistic=0.21902984380722046, pvalue=0.0)\n",
      "ShapiroResult(statistic=0.20420461893081665, pvalue=0.0)\n",
      "NormaltestResult(statistic=153780.89625473792, pvalue=0.0)\n",
      "NormaltestResult(statistic=188897.33269905322, pvalue=0.0)\n"
     ]
    },
    {
     "name": "stderr",
     "output_type": "stream",
     "text": [
      "C:\\Users\\yijia\\anaconda3\\envs\\py3-TF2.0\\lib\\site-packages\\scipy\\stats\\morestats.py:1760: UserWarning:\n",
      "\n",
      "p-value may not be accurate for N > 5000.\n",
      "\n"
     ]
    }
   ],
   "source": [
    "# 1 check the assumption of normality using the stats.shapiro()\n",
    "from scipy.stats import shapiro\n",
    "print(shapiro(orig))\n",
    "print(shapiro(after))\n",
    "\n",
    "from scipy.stats import normaltest\n",
    "print(normaltest(orig))\n",
    "print(normaltest(after))"
   ]
  },
  {
   "cell_type": "code",
   "execution_count": 16,
   "id": "1703921b",
   "metadata": {},
   "outputs": [
    {
     "data": {
      "text/plain": [
       "(1.1072635162311828, 1.1102230246251565e-16)"
      ]
     },
     "execution_count": 16,
     "metadata": {},
     "output_type": "execute_result"
    }
   ],
   "source": [
    "# Check equal variance\n",
    "import scipy.stats\n",
    "def f_test(x, y):\n",
    "    x = np.array(x)\n",
    "    y = np.array(y)\n",
    "    f = np.var(x, ddof=1)/np.var(y, ddof=1) #calculate F test statistic \n",
    "    dfn = x.size-1 #define degrees of freedom numerator \n",
    "    dfd = y.size-1 #define degrees of freedom denominator \n",
    "    p = 1-scipy.stats.f.cdf(f, dfn, dfd) #find p-value of F test statistic \n",
    "    return f, p\n",
    "  \n",
    "# perform F-test\n",
    "f_test(orig, after)"
   ]
  },
  {
   "cell_type": "code",
   "execution_count": 17,
   "id": "7c572087",
   "metadata": {},
   "outputs": [
    {
     "data": {
      "text/plain": [
       "Ttest_indResult(statistic=-7.422512095954769, pvalue=1.15144687852198e-13)"
      ]
     },
     "execution_count": 17,
     "metadata": {},
     "output_type": "execute_result"
    }
   ],
   "source": [
    "ttest_ind(after, orig, equal_var=True)"
   ]
  },
  {
   "cell_type": "markdown",
   "id": "6082e0d0",
   "metadata": {},
   "source": [
    "In control the converting rate is 4.8% while 4.3% for the test group. It seems that local-translation make it even worse, i.e., 10% drop, which would be dramatic if it were true. \n",
    "\n",
    "The most likely reason for weired A/B test results are:\n",
    "1. we didn't collect enough data\n",
    "2. some bias has been introduced in the experiment so that test/control are not really random. \n",
    "\n",
    "###### In data science, whenever results appear too bad or too good to be true, they are not true."
   ]
  },
  {
   "cell_type": "markdown",
   "id": "a83ca448",
   "metadata": {},
   "source": [
    "Firstly, we can plot day to day, to see if these weired results have been constantly happening or they just started happening all of a sudden."
   ]
  },
  {
   "cell_type": "code",
   "execution_count": 18,
   "id": "6e566268",
   "metadata": {},
   "outputs": [
    {
     "data": {
      "image/png": "[encoded data removed]",
      "text/plain": [
       "<Figure size 864x360 with 1 Axes>"
      ]
     },
     "metadata": {
      "needs_background": "light"
     },
     "output_type": "display_data"
    }
   ],
   "source": [
    "orig_bydate = test_data[test_data['test'] == 0].groupby('date')['conversion'].mean()\n",
    "after_bydate = test_data[test_data['test'] == 1].groupby('date')['conversion'].mean()\n",
    "fig = plt.figure(figsize = (12, 5))\n",
    "plt.plot(after_bydate/orig_bydate)\n",
    "plt.show()"
   ]
  },
  {
   "cell_type": "markdown",
   "id": "0e61f7bc",
   "metadata": {},
   "source": [
    "From the plot above, we notice: \n",
    "- Test has constantly been worse than control and there is relatively little across days. That probably means that we do have enough data, but there was some bias in the experiment set up. \n",
    "- On a side note, we just ran it for 5 days. We should always run the test at least 1 full week to capture weekly patterns, 2 weeks should be much better. "
   ]
  },
  {
   "cell_type": "markdown",
   "id": "26f9be2c",
   "metadata": {},
   "source": [
    "###### Try find the selection bias\n",
    "In an ideal world, the distribution of people in test and control for each segment should be the same.  To check wehter it is true, we can:\n",
    "Build a decision tree where the variables are the user attributes and the outcome variable is whether the user is in test or control. If the tree splits, it means for given values of that variable, the user is more likely to end up in test/contro. But this should be impossible. That is, if the randomization worked, the tree should not split at all. "
   ]
  },
  {
   "cell_type": "code",
   "execution_count": 19,
   "id": "ec60e7ab",
   "metadata": {},
   "outputs": [],
   "source": [
    "tree_data = test_data.dropna(how='any',axis=0) "
   ]
  },
  {
   "cell_type": "code",
   "execution_count": 20,
   "id": "169b37a5",
   "metadata": {},
   "outputs": [],
   "source": [
    "# One-Hot-Encoding for Categorical Data\n",
    "def OneHotEncoding(d):\n",
    "    col_name = d.columns\n",
    "    for i in range(d.shape[1]):\n",
    "        dummy = pd.get_dummies(d[col_name[i]], prefix=col_name[i], drop_first=True)\n",
    "        d = pd.concat([d, dummy], axis=1)\n",
    "        d = d.drop(col_name[i], axis=1)\n",
    "    return d\n",
    "\n",
    "def DataTransformation(data):\n",
    "    cat = data.select_dtypes(include = ['object'])\n",
    "    cat_new = OneHotEncoding(cat)\n",
    "    newdata = pd.concat([data.drop(cat,axis=1), cat_new], axis=1)\n",
    "    return newdata"
   ]
  },
  {
   "cell_type": "code",
   "execution_count": 23,
   "id": "b971330c",
   "metadata": {},
   "outputs": [
    {
     "data": {
      "text/html": [
       "<div>\n",
       "<style scoped>\n",
       "    .dataframe tbody tr th:only-of-type {\n",
       "        vertical-align: middle;\n",
       "    }\n",
       "\n",
       "    .dataframe tbody tr th {\n",
       "        vertical-align: top;\n",
       "    }\n",
       "\n",
       "    .dataframe thead th {\n",
       "        text-align: right;\n",
       "    }\n",
       "</style>\n",
       "<table border=\"1\" class=\"dataframe\">\n",
       "  <thead>\n",
       "    <tr style=\"text-align: right;\">\n",
       "      <th></th>\n",
       "      <th>age</th>\n",
       "      <th>device_Web</th>\n",
       "      <th>browser_language_ES</th>\n",
       "      <th>browser_language_Other</th>\n",
       "      <th>ads_channel_Facebook</th>\n",
       "      <th>ads_channel_Google</th>\n",
       "      <th>ads_channel_Other</th>\n",
       "      <th>ads_channel_Yahoo</th>\n",
       "      <th>browser_Chrome</th>\n",
       "      <th>browser_FireFox</th>\n",
       "      <th>...</th>\n",
       "      <th>country_El Salvador</th>\n",
       "      <th>country_Guatemala</th>\n",
       "      <th>country_Honduras</th>\n",
       "      <th>country_Mexico</th>\n",
       "      <th>country_Nicaragua</th>\n",
       "      <th>country_Panama</th>\n",
       "      <th>country_Paraguay</th>\n",
       "      <th>country_Peru</th>\n",
       "      <th>country_Uruguay</th>\n",
       "      <th>country_Venezuela</th>\n",
       "    </tr>\n",
       "  </thead>\n",
       "  <tbody>\n",
       "    <tr>\n",
       "      <th>1</th>\n",
       "      <td>21.0</td>\n",
       "      <td>1</td>\n",
       "      <td>1</td>\n",
       "      <td>0</td>\n",
       "      <td>0</td>\n",
       "      <td>1</td>\n",
       "      <td>0</td>\n",
       "      <td>0</td>\n",
       "      <td>0</td>\n",
       "      <td>0</td>\n",
       "      <td>...</td>\n",
       "      <td>0</td>\n",
       "      <td>0</td>\n",
       "      <td>0</td>\n",
       "      <td>1</td>\n",
       "      <td>0</td>\n",
       "      <td>0</td>\n",
       "      <td>0</td>\n",
       "      <td>0</td>\n",
       "      <td>0</td>\n",
       "      <td>0</td>\n",
       "    </tr>\n",
       "    <tr>\n",
       "      <th>3</th>\n",
       "      <td>22.0</td>\n",
       "      <td>0</td>\n",
       "      <td>0</td>\n",
       "      <td>1</td>\n",
       "      <td>1</td>\n",
       "      <td>0</td>\n",
       "      <td>0</td>\n",
       "      <td>0</td>\n",
       "      <td>0</td>\n",
       "      <td>0</td>\n",
       "      <td>...</td>\n",
       "      <td>0</td>\n",
       "      <td>0</td>\n",
       "      <td>0</td>\n",
       "      <td>1</td>\n",
       "      <td>0</td>\n",
       "      <td>0</td>\n",
       "      <td>0</td>\n",
       "      <td>0</td>\n",
       "      <td>0</td>\n",
       "      <td>0</td>\n",
       "    </tr>\n",
       "    <tr>\n",
       "      <th>4</th>\n",
       "      <td>19.0</td>\n",
       "      <td>1</td>\n",
       "      <td>1</td>\n",
       "      <td>0</td>\n",
       "      <td>0</td>\n",
       "      <td>1</td>\n",
       "      <td>0</td>\n",
       "      <td>0</td>\n",
       "      <td>0</td>\n",
       "      <td>1</td>\n",
       "      <td>...</td>\n",
       "      <td>0</td>\n",
       "      <td>0</td>\n",
       "      <td>0</td>\n",
       "      <td>1</td>\n",
       "      <td>0</td>\n",
       "      <td>0</td>\n",
       "      <td>0</td>\n",
       "      <td>0</td>\n",
       "      <td>0</td>\n",
       "      <td>0</td>\n",
       "    </tr>\n",
       "    <tr>\n",
       "      <th>9</th>\n",
       "      <td>33.0</td>\n",
       "      <td>0</td>\n",
       "      <td>1</td>\n",
       "      <td>0</td>\n",
       "      <td>1</td>\n",
       "      <td>0</td>\n",
       "      <td>0</td>\n",
       "      <td>0</td>\n",
       "      <td>0</td>\n",
       "      <td>0</td>\n",
       "      <td>...</td>\n",
       "      <td>0</td>\n",
       "      <td>0</td>\n",
       "      <td>0</td>\n",
       "      <td>1</td>\n",
       "      <td>0</td>\n",
       "      <td>0</td>\n",
       "      <td>0</td>\n",
       "      <td>0</td>\n",
       "      <td>0</td>\n",
       "      <td>0</td>\n",
       "    </tr>\n",
       "    <tr>\n",
       "      <th>10</th>\n",
       "      <td>37.0</td>\n",
       "      <td>0</td>\n",
       "      <td>1</td>\n",
       "      <td>0</td>\n",
       "      <td>0</td>\n",
       "      <td>0</td>\n",
       "      <td>0</td>\n",
       "      <td>0</td>\n",
       "      <td>0</td>\n",
       "      <td>0</td>\n",
       "      <td>...</td>\n",
       "      <td>0</td>\n",
       "      <td>0</td>\n",
       "      <td>0</td>\n",
       "      <td>0</td>\n",
       "      <td>0</td>\n",
       "      <td>0</td>\n",
       "      <td>0</td>\n",
       "      <td>0</td>\n",
       "      <td>0</td>\n",
       "      <td>0</td>\n",
       "    </tr>\n",
       "  </tbody>\n",
       "</table>\n",
       "<p>5 rows × 30 columns</p>\n",
       "</div>"
      ],
      "text/plain": [
       "     age  device_Web  browser_language_ES  browser_language_Other  \\\n",
       "1   21.0           1                    1                       0   \n",
       "3   22.0           0                    0                       1   \n",
       "4   19.0           1                    1                       0   \n",
       "9   33.0           0                    1                       0   \n",
       "10  37.0           0                    1                       0   \n",
       "\n",
       "    ads_channel_Facebook  ads_channel_Google  ads_channel_Other  \\\n",
       "1                      0                   1                  0   \n",
       "3                      1                   0                  0   \n",
       "4                      0                   1                  0   \n",
       "9                      1                   0                  0   \n",
       "10                     0                   0                  0   \n",
       "\n",
       "    ads_channel_Yahoo  browser_Chrome  browser_FireFox  ...  \\\n",
       "1                   0               0                0  ...   \n",
       "3                   0               0                0  ...   \n",
       "4                   0               0                1  ...   \n",
       "9                   0               0                0  ...   \n",
       "10                  0               0                0  ...   \n",
       "\n",
       "    country_El Salvador  country_Guatemala  country_Honduras  country_Mexico  \\\n",
       "1                     0                  0                 0               1   \n",
       "3                     0                  0                 0               1   \n",
       "4                     0                  0                 0               1   \n",
       "9                     0                  0                 0               1   \n",
       "10                    0                  0                 0               0   \n",
       "\n",
       "    country_Nicaragua  country_Panama  country_Paraguay  country_Peru  \\\n",
       "1                   0               0                 0             0   \n",
       "3                   0               0                 0             0   \n",
       "4                   0               0                 0             0   \n",
       "9                   0               0                 0             0   \n",
       "10                  0               0                 0             0   \n",
       "\n",
       "    country_Uruguay  country_Venezuela  \n",
       "1                 0                  0  \n",
       "3                 0                  0  \n",
       "4                 0                  0  \n",
       "9                 0                  0  \n",
       "10                0                  0  \n",
       "\n",
       "[5 rows x 30 columns]"
      ]
     },
     "execution_count": 23,
     "metadata": {},
     "output_type": "execute_result"
    }
   ],
   "source": [
    "X_train = tree_data.drop(['user_id','date', 'test','conversion'], axis=1)\n",
    "y_train = tree_data['test']\n",
    "\n",
    "X_train_trans = DataTransformation(X_train)\n",
    "X_train_trans.head()"
   ]
  },
  {
   "cell_type": "code",
   "execution_count": 24,
   "id": "c5c94f6f",
   "metadata": {},
   "outputs": [
    {
     "data": {
      "text/plain": [
       "DecisionTreeClassifier(max_depth=3)"
      ]
     },
     "execution_count": 24,
     "metadata": {},
     "output_type": "execute_result"
    }
   ],
   "source": [
    "from sklearn.tree import DecisionTreeClassifier\n",
    "dtree=DecisionTreeClassifier(max_depth=3)\n",
    "dtree.fit(X_train_trans, y_train)"
   ]
  },
  {
   "cell_type": "code",
   "execution_count": 25,
   "id": "168966bd",
   "metadata": {},
   "outputs": [
    {
     "data": {
      "text/plain": [
       "[Text(0.5, 0.875, 'X[28] <= 0.5\\ngini = 0.497\\nsamples = 160800\\nvalue = [74352, 86448]'),\n",
       " Text(0.25, 0.625, 'X[23] <= 0.5\\ngini = 0.498\\nsamples = 159144\\nvalue = [74198, 84946]'),\n",
       " Text(0.125, 0.375, 'X[17] <= 0.5\\ngini = 0.495\\nsamples = 107387\\nvalue = [48514, 58873]'),\n",
       " Text(0.0625, 0.125, 'gini = 0.492\\nsamples = 85917\\nvalue = [37666, 48251]'),\n",
       " Text(0.1875, 0.125, 'gini = 0.5\\nsamples = 21470\\nvalue = [10848, 10622]'),\n",
       " Text(0.375, 0.375, 'X[0] <= 54.5\\ngini = 0.5\\nsamples = 51757\\nvalue = [25684, 26073]'),\n",
       " Text(0.3125, 0.125, 'gini = 0.5\\nsamples = 51723\\nvalue = [25673, 26050]'),\n",
       " Text(0.4375, 0.125, 'gini = 0.438\\nsamples = 34\\nvalue = [11, 23]'),\n",
       " Text(0.75, 0.625, 'X[0] <= 25.5\\ngini = 0.169\\nsamples = 1656\\nvalue = [154, 1502]'),\n",
       " Text(0.625, 0.375, 'X[2] <= 0.5\\ngini = 0.139\\nsamples = 797\\nvalue = [60, 737]'),\n",
       " Text(0.5625, 0.125, 'gini = 0.084\\nsamples = 136\\nvalue = [6, 130]'),\n",
       " Text(0.6875, 0.125, 'gini = 0.15\\nsamples = 661\\nvalue = [54, 607]'),\n",
       " Text(0.875, 0.375, 'X[4] <= 0.5\\ngini = 0.195\\nsamples = 859\\nvalue = [94, 765]'),\n",
       " Text(0.8125, 0.125, 'gini = 0.216\\nsamples = 537\\nvalue = [66, 471]'),\n",
       " Text(0.9375, 0.125, 'gini = 0.159\\nsamples = 322\\nvalue = [28, 294]')]"
      ]
     },
     "execution_count": 25,
     "metadata": {},
     "output_type": "execute_result"
    },
    {
     "data": {
      "image/png": "[encoded data removed]",
      "text/plain": [
       "<Figure size 1296x432 with 1 Axes>"
      ]
     },
     "metadata": {
      "needs_background": "light"
     },
     "output_type": "display_data"
    }
   ],
   "source": [
    "from sklearn.datasets import load_iris\n",
    "from sklearn import tree\n",
    "fig = plt.figure(figsize=(18,6))\n",
    "tree.plot_tree(dtree)"
   ]
  },
  {
   "cell_type": "markdown",
   "id": "463c4ea4",
   "metadata": {},
   "source": [
    "From the features, we can see that countries is the most important feature for conversion. So let’s check the test results after controlling for country."
   ]
  },
  {
   "cell_type": "code",
   "execution_count": 26,
   "id": "3c88b476",
   "metadata": {},
   "outputs": [],
   "source": [
    "countries = [name for name in test_data['country'].unique() if name is not np.nan]"
   ]
  },
  {
   "cell_type": "code",
   "execution_count": 27,
   "id": "235e1e9f",
   "metadata": {},
   "outputs": [
    {
     "name": "stdout",
     "output_type": "stream",
     "text": [
      "Country              Test Rate   Control Rate   P-value\n",
      "-----------------------------------------------------------------\n",
      "Mexico             0.05119         0.04949        0.165544\n",
      "Venezuela          0.04898         0.05034        0.573702\n",
      "Bolivia            0.04790         0.04937        0.718885\n",
      "Colombia           0.05057         0.05209        0.423719\n",
      "Uruguay            0.01291         0.01205        0.879764\n",
      "El Salvador         0.04795         0.05355        0.248127\n",
      "Nicaragua          0.05418         0.05265        0.780400\n",
      "Peru               0.05060         0.04991        0.771953\n",
      "Costa Rica         0.05474         0.05226        0.687876\n",
      "Chile              0.05130         0.04811        0.302848\n",
      "Argentina          0.01373         0.01507        0.335147\n",
      "Ecuador            0.04899         0.04915        0.961512\n",
      "Guatemala          0.04865         0.05064        0.572107\n",
      "Honduras           0.04754         0.05091        0.471463\n",
      "Paraguay           0.04923         0.04849        0.883697\n",
      "Panama             0.04937         0.04680        0.705327\n"
     ]
    }
   ],
   "source": [
    "print('{0:15s}{1:>15s}{2:>15s}{3:>10s}'.format('Country','Test Rate', 'Control Rate', 'P-value'))\n",
    "print('-'*65)\n",
    "for country in countries:\n",
    "    test_val = test_data[(test_data['country'] == country) & (test_data['test'] == 1)]['conversion'].values\n",
    "    cont_val = test_data[(test_data['country'] == country) & (test_data['test'] == 0)]['conversion'].values\n",
    "    \n",
    "    test_mean = test_val.mean()\n",
    "    cont_mean = cont_val.mean()\n",
    "    p_val = ttest_ind(test_val, cont_val, equal_var=False).pvalue\n",
    "    \n",
    "    print('{0:10s} {1:15.5f} {2:15.5f} {3:15f}'.format(country, test_mean, cont_mean, p_val))"
   ]
  },
  {
   "cell_type": "markdown",
   "id": "8cc3f433",
   "metadata": {},
   "source": [
    "After we control for country, the test clearly appears non significant. Not a great success given that the goal was to improve conversion rate, but at least we know that a localized translation didn’t make things worse!"
   ]
  },
  {
   "cell_type": "code",
   "execution_count": 28,
   "id": "441cd353",
   "metadata": {},
   "outputs": [
    {
     "name": "stdout",
     "output_type": "stream",
     "text": [
      "t-test independent -1.4687728655994179\n",
      "0.14189510075984352\n"
     ]
    }
   ],
   "source": [
    "t_test_df = df[['age', 'test']].dropna()\n",
    "cat1 = t_test_df[t_test_df.test == 1].age\n",
    "cat2 = t_test_df[t_test_df.test == 0].age\n",
    "\n",
    "ttest, p =ttest_ind(cat1, cat2)\n",
    "print ('t-test independent', ttest)\n",
    "print (p)"
   ]
  },
  {
   "cell_type": "code",
   "execution_count": 29,
   "id": "432db0b4",
   "metadata": {},
   "outputs": [
    {
     "data": {
      "image/png": "[encoded data removed]",
      "text/plain": [
       "<Figure size 1296x360 with 1 Axes>"
      ]
     },
     "metadata": {
      "needs_background": "light"
     },
     "output_type": "display_data"
    }
   ],
   "source": [
    "orig_bycountry = test_data[test_data['test']==0].groupby('country')['conversion'].mean()\n",
    "after_bycountry = test_data[test_data['test']==1].groupby('country')['conversion'].mean()\n",
    "fig = plt.figure(figsize=(18,5))\n",
    "plt.plot(after_bycountry/orig_bycountry)\n",
    "plt.show()"
   ]
  },
  {
   "cell_type": "code",
   "execution_count": 64,
   "id": "09a12197",
   "metadata": {},
   "outputs": [],
   "source": [
    "# fit a random forest to see the importance feature\n",
    "# build model\n",
    "#We are performing a numerical encoding to the categorical features, using the sklearn label encoder.\n",
    "from sklearn.preprocessing import LabelEncoder\n",
    "comp_df = df.dropna(subset=['sex'])\n",
    "for feature in df.select_dtypes(include='object'):\n",
    "    lbl_enc = LabelEncoder()\n",
    "    lbl_enc.fit(comp_df[feature])\n",
    "    comp_df[feature] = lbl_enc.transform(comp_df[feature])\n",
    "    if feature == 'country':\n",
    "        coun = list(lbl_enc.inverse_transform(comp_df[feature]))"
   ]
  },
  {
   "cell_type": "code",
   "execution_count": 72,
   "id": "93044c47",
   "metadata": {},
   "outputs": [],
   "source": [
    "#Fit a Random Forest and check feature importance\n",
    "#datatype = df.dtypes\n",
    "#feature = datatype[(datatype == 'object') | (datatype == 'category')].index.tolist()\n",
    "feature = ['browser_language', 'country', 'browser', 'ads_channel', 'device', 'source', 'sex', 'age']\n",
    "model = RandomForestClassifier() # or DecisionTreeClassifier()\n",
    "#model.fit(map(lambda x: [x],comp_df[features]),comp_df['test'])\n",
    "model.fit(comp_df[feature], comp_df['test'])\n",
    "feature_importances = model.feature_importances_"
   ]
  },
  {
   "cell_type": "code",
   "execution_count": 73,
   "id": "f970fbba",
   "metadata": {},
   "outputs": [
    {
     "data": {
      "image/png": "[encoded data removed]",
      "text/plain": [
       "<Figure size 1152x576 with 1 Axes>"
      ]
     },
     "metadata": {
      "needs_background": "light"
     },
     "output_type": "display_data"
    }
   ],
   "source": [
    "columns = ['feature', 'value']\n",
    "importance = pd.DataFrame(feature_importances, index=feature).reset_index()\n",
    "importance.columns = columns\n",
    "fig = plt.figure(figsize = (16, 8))\n",
    "sns.barplot(x='feature', y ='value', data=importance)\n",
    "plt.show()"
   ]
  },
  {
   "cell_type": "code",
   "execution_count": 1,
   "id": "83936571",
   "metadata": {},
   "outputs": [
    {
     "ename": "NameError",
     "evalue": "name 'clf' is not defined",
     "output_type": "error",
     "traceback": [
      "\u001b[1;31m---------------------------------------------------------------------------\u001b[0m",
      "\u001b[1;31mNameError\u001b[0m                                 Traceback (most recent call last)",
      "\u001b[1;32m~\\AppData\\Local\\Temp/ipykernel_13820/868961489.py\u001b[0m in \u001b[0;36m<module>\u001b[1;34m\u001b[0m\n\u001b[0;32m      1\u001b[0m \u001b[1;32mfrom\u001b[0m \u001b[0msklearn\u001b[0m \u001b[1;32mimport\u001b[0m \u001b[0mtree\u001b[0m\u001b[1;33m\u001b[0m\u001b[1;33m\u001b[0m\u001b[0m\n\u001b[1;32m----> 2\u001b[1;33m \u001b[0mtext_representation\u001b[0m \u001b[1;33m=\u001b[0m \u001b[0mtree\u001b[0m\u001b[1;33m.\u001b[0m\u001b[0mexport_text\u001b[0m\u001b[1;33m(\u001b[0m\u001b[0mclf\u001b[0m\u001b[1;33m)\u001b[0m\u001b[1;33m\u001b[0m\u001b[1;33m\u001b[0m\u001b[0m\n\u001b[0m\u001b[0;32m      3\u001b[0m \u001b[0mprint\u001b[0m\u001b[1;33m(\u001b[0m\u001b[0mtext_representation\u001b[0m\u001b[1;33m)\u001b[0m\u001b[1;33m\u001b[0m\u001b[1;33m\u001b[0m\u001b[0m\n",
      "\u001b[1;31mNameError\u001b[0m: name 'clf' is not defined"
     ]
    }
   ],
   "source": []
  },
  {
   "cell_type": "code",
   "execution_count": null,
   "id": "98fe07be",
   "metadata": {},
   "outputs": [],
   "source": []
  }
 ],
 "metadata": {
  "kernelspec": {
   "display_name": "Python [conda env:py3-TF2.0]",
   "language": "python",
   "name": "conda-env-py3-TF2.0-py"
  },
  "language_info": {
   "codemirror_mode": {
    "name": "ipython",
    "version": 3
   },
   "file_extension": ".py",
   "mimetype": "text/x-python",
   "name": "python",
   "nbconvert_exporter": "python",
   "pygments_lexer": "ipython3",
   "version": "3.8.12"
  }
 },
 "nbformat": 4,
 "nbformat_minor": 5
}
