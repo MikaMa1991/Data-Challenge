{
 "cells": [
  {
   "cell_type": "code",
   "execution_count": 1,
   "id": "8decc778",
   "metadata": {},
   "outputs": [
    {
     "name": "stderr",
     "output_type": "stream",
     "text": [
      "C:\\Users\\yijia\\anaconda3\\envs\\py3-TF2.0\\lib\\site-packages\\xgboost\\compat.py:36: FutureWarning: pandas.Int64Index is deprecated and will be removed from pandas in a future version. Use pandas.Index with the appropriate dtype instead.\n",
      "  from pandas import MultiIndex, Int64Index\n"
     ]
    },
    {
     "data": {
      "text/html": [
       "        <script type=\"text/javascript\">\n",
       "        window.PlotlyConfig = {MathJaxConfig: 'local'};\n",
       "        if (window.MathJax) {MathJax.Hub.Config({SVG: {font: \"STIX-Web\"}});}\n",
       "        if (typeof require !== 'undefined') {\n",
       "        require.undef(\"plotly\");\n",
       "        requirejs.config({\n",
       "            paths: {\n",
       "                'plotly': ['https://cdn.plot.ly/plotly-2.2.0.min']\n",
       "            }\n",
       "        });\n",
       "        require(['plotly'], function(Plotly) {\n",
       "            window._Plotly = Plotly;\n",
       "        });\n",
       "        }\n",
       "        </script>\n",
       "        "
      ]
     },
     "metadata": {},
     "output_type": "display_data"
    },
    {
     "data": {
      "text/html": [
       "        <script type=\"text/javascript\">\n",
       "        window.PlotlyConfig = {MathJaxConfig: 'local'};\n",
       "        if (window.MathJax) {MathJax.Hub.Config({SVG: {font: \"STIX-Web\"}});}\n",
       "        if (typeof require !== 'undefined') {\n",
       "        require.undef(\"plotly\");\n",
       "        requirejs.config({\n",
       "            paths: {\n",
       "                'plotly': ['https://cdn.plot.ly/plotly-2.2.0.min']\n",
       "            }\n",
       "        });\n",
       "        require(['plotly'], function(Plotly) {\n",
       "            window._Plotly = Plotly;\n",
       "        });\n",
       "        }\n",
       "        </script>\n",
       "        "
      ]
     },
     "metadata": {},
     "output_type": "display_data"
    },
    {
     "data": {
      "text/html": [
       "        <script type=\"text/javascript\">\n",
       "        window.PlotlyConfig = {MathJaxConfig: 'local'};\n",
       "        if (window.MathJax) {MathJax.Hub.Config({SVG: {font: \"STIX-Web\"}});}\n",
       "        if (typeof require !== 'undefined') {\n",
       "        require.undef(\"plotly\");\n",
       "        requirejs.config({\n",
       "            paths: {\n",
       "                'plotly': ['https://cdn.plot.ly/plotly-2.2.0.min']\n",
       "            }\n",
       "        });\n",
       "        require(['plotly'], function(Plotly) {\n",
       "            window._Plotly = Plotly;\n",
       "        });\n",
       "        }\n",
       "        </script>\n",
       "        "
      ]
     },
     "metadata": {},
     "output_type": "display_data"
    }
   ],
   "source": [
    "# Importing all the necessary libraries\n",
    "import numpy as np\n",
    "import pandas as pd\n",
    "from collections import Counter\n",
    "from datetime import datetime\n",
    "from sklearn.experimental import enable_iterative_imputer\n",
    "from sklearn.impute import SimpleImputer, KNNImputer, IterativeImputer\n",
    "from sklearn.preprocessing import MinMaxScaler\n",
    "from sklearn.ensemble import RandomForestClassifier\n",
    "import seaborn as sns\n",
    "from scipy.stats import ttest_ind\n",
    "import matplotlib.pyplot as plt\n",
    "from sklearn.feature_selection import RFE\n",
    "from sklearn.linear_model import LogisticRegression\n",
    "from sklearn.feature_selection import SelectFromModel\n",
    "from sklearn.linear_model import Lasso\n",
    "import xgboost\n",
    "from xgboost import plot_importance\n",
    "from xgboost import XGBClassifier\n",
    "import time\n",
    "from sklearn.model_selection import GridSearchCV\n",
    "from sklearn.model_selection import RandomizedSearchCV\n",
    "from sklearn.metrics import mean_squared_error\n",
    "from sklearn.metrics import auc, roc_curve, classification_report\n",
    "import math\n",
    "from sklearn.model_selection import RepeatedKFold\n",
    "from sklearn.neighbors import KNeighborsRegressor\n",
    "from sklearn.tree import DecisionTreeRegressor\n",
    "from sklearn.ensemble import StackingRegressor\n",
    "from sklearn.linear_model import Ridge\n",
    "from sklearn.linear_model import Lasso\n",
    "from sklearn.linear_model import ElasticNet\n",
    "\n",
    "#import sys\n",
    "#!{sys.executable} -m pip install cufflinks\n",
    "import plotly\n",
    "import plotly.offline as py\n",
    "py.init_notebook_mode(connected=True)\n",
    "from plotly.offline import init_notebook_mode, iplot\n",
    "init_notebook_mode(connected=True)\n",
    "import plotly.graph_objs as go\n",
    "import plotly.offline as offline\n",
    "# import cufflinks and offline mode\n",
    "import cufflinks as cf\n",
    "cf.go_offline()\n",
    "\n",
    "from imblearn.over_sampling import SMOTE\n",
    "from imblearn.over_sampling import SMOTENC\n",
    "from collections import Counter\n",
    "\n",
    "from sklearn.model_selection import GridSearchCV\n",
    "from keras.models import Sequential\n",
    "from keras.layers import Dense\n",
    "from keras.layers import Dropout\n",
    "from keras.wrappers.scikit_learn import KerasClassifier\n",
    "from keras.constraints import maxnorm\n",
    "from keras.callbacks import EarlyStopping"
   ]
  },
  {
   "cell_type": "markdown",
   "id": "b4662efa",
   "metadata": {},
   "source": [
    "## Goal"
   ]
  },
  {
   "cell_type": "markdown",
   "id": "4ee88654",
   "metadata": {},
   "source": [
    "Employee turn-over is a very costly problem for companies. The cost of replacing an employee\n",
    "if often larger than 100K USD, taking into account the time spent to interview and find a\n",
    "replacement, placement fees, sign-on bonuses and the loss of productivity for several months.\n",
    "\n",
    "It is only natural then that data science has started being applied to this area. Understanding\n",
    "why and when employees are most likely to leave can lead to actions to improve employee\n",
    "retention as well as planning new hiring in advance. This application of DS is sometimes called\n",
    "people analytics or people data science (if you see a job title: people data scientist, this is your\n",
    "job).\n",
    "\n",
    "In this challenge, you have a data set with info about the employees and have to predict when\n",
    "employees are going to quit by understanding the main drivers of employee churn"
   ]
  },
  {
   "cell_type": "code",
   "execution_count": 2,
   "id": "f42697ee",
   "metadata": {},
   "outputs": [
    {
     "data": {
      "text/html": [
       "<div>\n",
       "<style scoped>\n",
       "    .dataframe tbody tr th:only-of-type {\n",
       "        vertical-align: middle;\n",
       "    }\n",
       "\n",
       "    .dataframe tbody tr th {\n",
       "        vertical-align: top;\n",
       "    }\n",
       "\n",
       "    .dataframe thead th {\n",
       "        text-align: right;\n",
       "    }\n",
       "</style>\n",
       "<table border=\"1\" class=\"dataframe\">\n",
       "  <thead>\n",
       "    <tr style=\"text-align: right;\">\n",
       "      <th></th>\n",
       "      <th>employee_id</th>\n",
       "      <th>company_id</th>\n",
       "      <th>dept</th>\n",
       "      <th>seniority</th>\n",
       "      <th>salary</th>\n",
       "      <th>join_date</th>\n",
       "      <th>quit_date</th>\n",
       "    </tr>\n",
       "  </thead>\n",
       "  <tbody>\n",
       "    <tr>\n",
       "      <th>1</th>\n",
       "      <td>13021.0</td>\n",
       "      <td>7</td>\n",
       "      <td>customer_service</td>\n",
       "      <td>28</td>\n",
       "      <td>89000.0</td>\n",
       "      <td>2014-03-24</td>\n",
       "      <td>2015-10-30</td>\n",
       "    </tr>\n",
       "    <tr>\n",
       "      <th>2</th>\n",
       "      <td>825355.0</td>\n",
       "      <td>7</td>\n",
       "      <td>marketing</td>\n",
       "      <td>20</td>\n",
       "      <td>183000.0</td>\n",
       "      <td>2013-04-29</td>\n",
       "      <td>2014-04-04</td>\n",
       "    </tr>\n",
       "    <tr>\n",
       "      <th>3</th>\n",
       "      <td>927315.0</td>\n",
       "      <td>4</td>\n",
       "      <td>marketing</td>\n",
       "      <td>14</td>\n",
       "      <td>101000.0</td>\n",
       "      <td>2014-10-13</td>\n",
       "      <td>NaN</td>\n",
       "    </tr>\n",
       "    <tr>\n",
       "      <th>4</th>\n",
       "      <td>662910.0</td>\n",
       "      <td>7</td>\n",
       "      <td>customer_service</td>\n",
       "      <td>20</td>\n",
       "      <td>115000.0</td>\n",
       "      <td>2012-05-14</td>\n",
       "      <td>2013-06-07</td>\n",
       "    </tr>\n",
       "    <tr>\n",
       "      <th>5</th>\n",
       "      <td>256971.0</td>\n",
       "      <td>2</td>\n",
       "      <td>data_science</td>\n",
       "      <td>23</td>\n",
       "      <td>276000.0</td>\n",
       "      <td>2011-10-17</td>\n",
       "      <td>2014-08-22</td>\n",
       "    </tr>\n",
       "  </tbody>\n",
       "</table>\n",
       "</div>"
      ],
      "text/plain": [
       "   employee_id  company_id              dept  seniority    salary   join_date  \\\n",
       "1      13021.0           7  customer_service         28   89000.0  2014-03-24   \n",
       "2     825355.0           7         marketing         20  183000.0  2013-04-29   \n",
       "3     927315.0           4         marketing         14  101000.0  2014-10-13   \n",
       "4     662910.0           7  customer_service         20  115000.0  2012-05-14   \n",
       "5     256971.0           2      data_science         23  276000.0  2011-10-17   \n",
       "\n",
       "    quit_date  \n",
       "1  2015-10-30  \n",
       "2  2014-04-04  \n",
       "3         NaN  \n",
       "4  2013-06-07  \n",
       "5  2014-08-22  "
      ]
     },
     "execution_count": 2,
     "metadata": {},
     "output_type": "execute_result"
    }
   ],
   "source": [
    "data = pd.read_csv('Employee_Rentation.csv', index_col=[0])\n",
    "data.head()"
   ]
  },
  {
   "cell_type": "code",
   "execution_count": 3,
   "id": "6ebb6e1c",
   "metadata": {},
   "outputs": [
    {
     "name": "stdout",
     "output_type": "stream",
     "text": [
      "<class 'pandas.core.frame.DataFrame'>\n",
      "Int64Index: 24702 entries, 1 to 24702\n",
      "Data columns (total 7 columns):\n",
      " #   Column       Non-Null Count  Dtype  \n",
      "---  ------       --------------  -----  \n",
      " 0   employee_id  24702 non-null  float64\n",
      " 1   company_id   24702 non-null  int64  \n",
      " 2   dept         24702 non-null  object \n",
      " 3   seniority    24702 non-null  int64  \n",
      " 4   salary       24702 non-null  float64\n",
      " 5   join_date    24702 non-null  object \n",
      " 6   quit_date    13510 non-null  object \n",
      "dtypes: float64(2), int64(2), object(3)\n",
      "memory usage: 1.5+ MB\n"
     ]
    }
   ],
   "source": [
    "data.info()"
   ]
  },
  {
   "cell_type": "code",
   "execution_count": 4,
   "id": "3cff8f96",
   "metadata": {},
   "outputs": [
    {
     "data": {
      "text/html": [
       "<div>\n",
       "<style scoped>\n",
       "    .dataframe tbody tr th:only-of-type {\n",
       "        vertical-align: middle;\n",
       "    }\n",
       "\n",
       "    .dataframe tbody tr th {\n",
       "        vertical-align: top;\n",
       "    }\n",
       "\n",
       "    .dataframe thead th {\n",
       "        text-align: right;\n",
       "    }\n",
       "</style>\n",
       "<table border=\"1\" class=\"dataframe\">\n",
       "  <thead>\n",
       "    <tr style=\"text-align: right;\">\n",
       "      <th></th>\n",
       "      <th>count</th>\n",
       "      <th>mean</th>\n",
       "      <th>std</th>\n",
       "      <th>min</th>\n",
       "      <th>25%</th>\n",
       "      <th>50%</th>\n",
       "      <th>75%</th>\n",
       "      <th>max</th>\n",
       "    </tr>\n",
       "  </thead>\n",
       "  <tbody>\n",
       "    <tr>\n",
       "      <th>employee_id</th>\n",
       "      <td>24702.0</td>\n",
       "      <td>501604.403530</td>\n",
       "      <td>288909.026101</td>\n",
       "      <td>36.0</td>\n",
       "      <td>250133.75</td>\n",
       "      <td>500793.0</td>\n",
       "      <td>753137.25</td>\n",
       "      <td>999969.0</td>\n",
       "    </tr>\n",
       "    <tr>\n",
       "      <th>company_id</th>\n",
       "      <td>24702.0</td>\n",
       "      <td>3.426969</td>\n",
       "      <td>2.700011</td>\n",
       "      <td>1.0</td>\n",
       "      <td>1.00</td>\n",
       "      <td>2.0</td>\n",
       "      <td>5.00</td>\n",
       "      <td>12.0</td>\n",
       "    </tr>\n",
       "    <tr>\n",
       "      <th>seniority</th>\n",
       "      <td>24702.0</td>\n",
       "      <td>14.127803</td>\n",
       "      <td>8.089520</td>\n",
       "      <td>1.0</td>\n",
       "      <td>7.00</td>\n",
       "      <td>14.0</td>\n",
       "      <td>21.00</td>\n",
       "      <td>99.0</td>\n",
       "    </tr>\n",
       "    <tr>\n",
       "      <th>salary</th>\n",
       "      <td>24702.0</td>\n",
       "      <td>138183.345478</td>\n",
       "      <td>76058.184573</td>\n",
       "      <td>17000.0</td>\n",
       "      <td>79000.00</td>\n",
       "      <td>123000.0</td>\n",
       "      <td>187000.00</td>\n",
       "      <td>408000.0</td>\n",
       "    </tr>\n",
       "  </tbody>\n",
       "</table>\n",
       "</div>"
      ],
      "text/plain": [
       "               count           mean            std      min        25%  \\\n",
       "employee_id  24702.0  501604.403530  288909.026101     36.0  250133.75   \n",
       "company_id   24702.0       3.426969       2.700011      1.0       1.00   \n",
       "seniority    24702.0      14.127803       8.089520      1.0       7.00   \n",
       "salary       24702.0  138183.345478   76058.184573  17000.0   79000.00   \n",
       "\n",
       "                  50%        75%       max  \n",
       "employee_id  500793.0  753137.25  999969.0  \n",
       "company_id        2.0       5.00      12.0  \n",
       "seniority        14.0      21.00      99.0  \n",
       "salary       123000.0  187000.00  408000.0  "
      ]
     },
     "execution_count": 4,
     "metadata": {},
     "output_type": "execute_result"
    }
   ],
   "source": [
    "data.describe().transpose()"
   ]
  },
  {
   "cell_type": "markdown",
   "id": "369244ee",
   "metadata": {},
   "source": [
    "The goal is to predict employee retention and understand its main drivers.\n",
    "Specifically, you should:\n",
    "\n",
    "- Assume, for each company, that the headcount starts from zero on 2011/01/23. Estimate employee headcount, for each company, on each day, from 2011/01/24 to 2015/12/13. That is, if by 2012/03/02 2000 people have joined company 1 and 1000 of them have already quit, then company headcount on 2012/03/02 for company 1 would be 1000.\n",
    "\n",
    "- You should create a table with 3 columns: day, employee_headcount, company_id. What are the main factors that drive employee churn? Do they make sense? Explain your findings.\n",
    "\n",
    "- If you could add to this data set just one variable that could help explain employee churn, what would that be?"
   ]
  },
  {
   "cell_type": "code",
   "execution_count": 5,
   "id": "015cb7f8",
   "metadata": {},
   "outputs": [],
   "source": [
    "# change string to datetime\n",
    "data['quit_date'] = pd.to_datetime(data['quit_date'])\n",
    "data['join_date'] = pd.to_datetime(data['join_date'])"
   ]
  },
  {
   "cell_type": "code",
   "execution_count": 11,
   "id": "06a6ac32",
   "metadata": {},
   "outputs": [
    {
     "data": {
      "text/html": [
       "<div>\n",
       "<style scoped>\n",
       "    .dataframe tbody tr th:only-of-type {\n",
       "        vertical-align: middle;\n",
       "    }\n",
       "\n",
       "    .dataframe tbody tr th {\n",
       "        vertical-align: top;\n",
       "    }\n",
       "\n",
       "    .dataframe thead th {\n",
       "        text-align: right;\n",
       "    }\n",
       "</style>\n",
       "<table border=\"1\" class=\"dataframe\">\n",
       "  <thead>\n",
       "    <tr style=\"text-align: right;\">\n",
       "      <th></th>\n",
       "      <th>employee_id</th>\n",
       "      <th>company_id</th>\n",
       "      <th>dept</th>\n",
       "      <th>seniority</th>\n",
       "      <th>salary</th>\n",
       "      <th>join_date</th>\n",
       "      <th>quit_date</th>\n",
       "    </tr>\n",
       "  </thead>\n",
       "  <tbody>\n",
       "    <tr>\n",
       "      <th>1</th>\n",
       "      <td>13021.0</td>\n",
       "      <td>7</td>\n",
       "      <td>customer_service</td>\n",
       "      <td>28</td>\n",
       "      <td>89000.0</td>\n",
       "      <td>2014-03-24</td>\n",
       "      <td>2015-10-30</td>\n",
       "    </tr>\n",
       "    <tr>\n",
       "      <th>2</th>\n",
       "      <td>825355.0</td>\n",
       "      <td>7</td>\n",
       "      <td>marketing</td>\n",
       "      <td>20</td>\n",
       "      <td>183000.0</td>\n",
       "      <td>2013-04-29</td>\n",
       "      <td>2014-04-04</td>\n",
       "    </tr>\n",
       "    <tr>\n",
       "      <th>3</th>\n",
       "      <td>927315.0</td>\n",
       "      <td>4</td>\n",
       "      <td>marketing</td>\n",
       "      <td>14</td>\n",
       "      <td>101000.0</td>\n",
       "      <td>2014-10-13</td>\n",
       "      <td>NaT</td>\n",
       "    </tr>\n",
       "    <tr>\n",
       "      <th>4</th>\n",
       "      <td>662910.0</td>\n",
       "      <td>7</td>\n",
       "      <td>customer_service</td>\n",
       "      <td>20</td>\n",
       "      <td>115000.0</td>\n",
       "      <td>2012-05-14</td>\n",
       "      <td>2013-06-07</td>\n",
       "    </tr>\n",
       "    <tr>\n",
       "      <th>5</th>\n",
       "      <td>256971.0</td>\n",
       "      <td>2</td>\n",
       "      <td>data_science</td>\n",
       "      <td>23</td>\n",
       "      <td>276000.0</td>\n",
       "      <td>2011-10-17</td>\n",
       "      <td>2014-08-22</td>\n",
       "    </tr>\n",
       "  </tbody>\n",
       "</table>\n",
       "</div>"
      ],
      "text/plain": [
       "   employee_id  company_id              dept  seniority    salary  join_date  \\\n",
       "1      13021.0           7  customer_service         28   89000.0 2014-03-24   \n",
       "2     825355.0           7         marketing         20  183000.0 2013-04-29   \n",
       "3     927315.0           4         marketing         14  101000.0 2014-10-13   \n",
       "4     662910.0           7  customer_service         20  115000.0 2012-05-14   \n",
       "5     256971.0           2      data_science         23  276000.0 2011-10-17   \n",
       "\n",
       "   quit_date  \n",
       "1 2015-10-30  \n",
       "2 2014-04-04  \n",
       "3        NaT  \n",
       "4 2013-06-07  \n",
       "5 2014-08-22  "
      ]
     },
     "execution_count": 11,
     "metadata": {},
     "output_type": "execute_result"
    }
   ],
   "source": [
    "## change NaT in the join_date and quit_date column to None\n",
    "data.replace(np.nan, None, inplace=True)\n",
    "data.head()"
   ]
  },
  {
   "cell_type": "markdown",
   "id": "6f201394",
   "metadata": {},
   "source": [
    "### 1. Create a table with 3 columns: day, employee_headcount, company_id"
   ]
  },
  {
   "cell_type": "code",
   "execution_count": 14,
   "id": "6601be54",
   "metadata": {},
   "outputs": [
    {
     "data": {
      "text/plain": [
       "Timestamp('2015-12-09 00:00:00')"
      ]
     },
     "execution_count": 14,
     "metadata": {},
     "output_type": "execute_result"
    }
   ],
   "source": [
    "data.quit_date.max()"
   ]
  },
  {
   "cell_type": "code",
   "execution_count": 16,
   "id": "4cc27e28",
   "metadata": {},
   "outputs": [],
   "source": [
    "date_range = pd.date_range(start = '2011-01-24', end = '2015-12-13', freq = 'D')\n",
    "all_company_id = sorted(data['company_id'].unique())"
   ]
  },
  {
   "cell_type": "code",
   "execution_count": 19,
   "id": "4f5dec75",
   "metadata": {},
   "outputs": [],
   "source": [
    "day = []\n",
    "company_id = []\n",
    "employee_hc = []\n",
    "for d in date_range:\n",
    "    for c in all_company_id:\n",
    "        day.append(d)\n",
    "        company_id.append(c)\n",
    "        temp = data[(data['join_date']<=d) & ((data['quit_date']>d) | (data['quit_date'].isnull())) & (data['company_id']==c)]\n",
    "        employee_hc.append(len(temp))"
   ]
  },
  {
   "cell_type": "code",
   "execution_count": 20,
   "id": "abebc9ba",
   "metadata": {},
   "outputs": [
    {
     "data": {
      "text/html": [
       "<div>\n",
       "<style scoped>\n",
       "    .dataframe tbody tr th:only-of-type {\n",
       "        vertical-align: middle;\n",
       "    }\n",
       "\n",
       "    .dataframe tbody tr th {\n",
       "        vertical-align: top;\n",
       "    }\n",
       "\n",
       "    .dataframe thead th {\n",
       "        text-align: right;\n",
       "    }\n",
       "</style>\n",
       "<table border=\"1\" class=\"dataframe\">\n",
       "  <thead>\n",
       "    <tr style=\"text-align: right;\">\n",
       "      <th></th>\n",
       "      <th>day</th>\n",
       "      <th>company_id</th>\n",
       "      <th>employee_headcount</th>\n",
       "    </tr>\n",
       "  </thead>\n",
       "  <tbody>\n",
       "    <tr>\n",
       "      <th>21415</th>\n",
       "      <td>2015-12-13</td>\n",
       "      <td>8</td>\n",
       "      <td>468</td>\n",
       "    </tr>\n",
       "    <tr>\n",
       "      <th>21416</th>\n",
       "      <td>2015-12-13</td>\n",
       "      <td>9</td>\n",
       "      <td>432</td>\n",
       "    </tr>\n",
       "    <tr>\n",
       "      <th>21417</th>\n",
       "      <td>2015-12-13</td>\n",
       "      <td>10</td>\n",
       "      <td>385</td>\n",
       "    </tr>\n",
       "    <tr>\n",
       "      <th>21418</th>\n",
       "      <td>2015-12-13</td>\n",
       "      <td>11</td>\n",
       "      <td>4</td>\n",
       "    </tr>\n",
       "    <tr>\n",
       "      <th>21419</th>\n",
       "      <td>2015-12-13</td>\n",
       "      <td>12</td>\n",
       "      <td>12</td>\n",
       "    </tr>\n",
       "  </tbody>\n",
       "</table>\n",
       "</div>"
      ],
      "text/plain": [
       "             day  company_id  employee_headcount\n",
       "21415 2015-12-13           8                 468\n",
       "21416 2015-12-13           9                 432\n",
       "21417 2015-12-13          10                 385\n",
       "21418 2015-12-13          11                   4\n",
       "21419 2015-12-13          12                  12"
      ]
     },
     "execution_count": 20,
     "metadata": {},
     "output_type": "execute_result"
    }
   ],
   "source": [
    "head_count_table = pd.DataFrame({'day': day, 'company_id': company_id, 'employee_headcount': employee_hc})\n",
    "head_count_table.tail()"
   ]
  },
  {
   "cell_type": "code",
   "execution_count": 21,
   "id": "a8ca41c1",
   "metadata": {},
   "outputs": [],
   "source": [
    "#=================================================================================\n",
    "# we can get this table in another way \"merge\"\n",
    "#=================================================================================\n",
    "# 1. I get for each day/company, how many quit/got hired on that day\n",
    "data_join = data.groupby(['join_date', 'company_id'])['employee_id'].count()\n",
    "data_quit = data.groupby(['quit_date', 'company_id'])['employee_id'].count()"
   ]
  },
  {
   "cell_type": "code",
   "execution_count": 34,
   "id": "836d1339",
   "metadata": {},
   "outputs": [],
   "source": [
    "from itertools import product\n",
    "data_headcount = pd.DataFrame(list(product(date_range, all_company_id)), columns = ['day', 'company_id'])\n",
    "data_headcount = pd.merge(data_headcount, data_join, how = 'left', left_on = ['day', 'company_id'], right_on = ['join_date', 'company_id'])\n",
    "data_headcount = pd.merge(data_headcount, data_quit, how = 'left', left_on = ['day', 'company_id'], right_on = ['quit_date', 'company_id'])\n",
    "data_headcount.fillna(0, inplace=True)\n",
    "head_count_col = data_headcount.groupby('company_id')['employee_id_x'].cumsum()-data_headcount.groupby('company_id')['employee_id_y'].cumsum()\n",
    "data_headcount_table = data_headcount.drop(['employee_id_x','employee_id_y'],axis=1)\n",
    "data_headcount_table['head_count'] = head_count_col"
   ]
  },
  {
   "cell_type": "code",
   "execution_count": 36,
   "id": "e1b9d80b",
   "metadata": {},
   "outputs": [
    {
     "data": {
      "text/html": [
       "<div>\n",
       "<style scoped>\n",
       "    .dataframe tbody tr th:only-of-type {\n",
       "        vertical-align: middle;\n",
       "    }\n",
       "\n",
       "    .dataframe tbody tr th {\n",
       "        vertical-align: top;\n",
       "    }\n",
       "\n",
       "    .dataframe thead th {\n",
       "        text-align: right;\n",
       "    }\n",
       "</style>\n",
       "<table border=\"1\" class=\"dataframe\">\n",
       "  <thead>\n",
       "    <tr style=\"text-align: right;\">\n",
       "      <th></th>\n",
       "      <th>day</th>\n",
       "      <th>company_id</th>\n",
       "      <th>head_count</th>\n",
       "    </tr>\n",
       "  </thead>\n",
       "  <tbody>\n",
       "    <tr>\n",
       "      <th>21415</th>\n",
       "      <td>2015-12-13</td>\n",
       "      <td>8</td>\n",
       "      <td>468.0</td>\n",
       "    </tr>\n",
       "    <tr>\n",
       "      <th>21416</th>\n",
       "      <td>2015-12-13</td>\n",
       "      <td>9</td>\n",
       "      <td>432.0</td>\n",
       "    </tr>\n",
       "    <tr>\n",
       "      <th>21417</th>\n",
       "      <td>2015-12-13</td>\n",
       "      <td>10</td>\n",
       "      <td>385.0</td>\n",
       "    </tr>\n",
       "    <tr>\n",
       "      <th>21418</th>\n",
       "      <td>2015-12-13</td>\n",
       "      <td>11</td>\n",
       "      <td>4.0</td>\n",
       "    </tr>\n",
       "    <tr>\n",
       "      <th>21419</th>\n",
       "      <td>2015-12-13</td>\n",
       "      <td>12</td>\n",
       "      <td>12.0</td>\n",
       "    </tr>\n",
       "  </tbody>\n",
       "</table>\n",
       "</div>"
      ],
      "text/plain": [
       "             day  company_id  head_count\n",
       "21415 2015-12-13           8       468.0\n",
       "21416 2015-12-13           9       432.0\n",
       "21417 2015-12-13          10       385.0\n",
       "21418 2015-12-13          11         4.0\n",
       "21419 2015-12-13          12        12.0"
      ]
     },
     "execution_count": 36,
     "metadata": {},
     "output_type": "execute_result"
    }
   ],
   "source": [
    "data_headcount_table.tail()"
   ]
  },
  {
   "cell_type": "markdown",
   "id": "7a9cdf6d",
   "metadata": {},
   "source": [
    "### 2. Understand Employee retention"
   ]
  },
  {
   "cell_type": "markdown",
   "id": "ed9809f1",
   "metadata": {},
   "source": [
    "#### 1st. Let's check how many days they stayed. This should matter, because people usually get bored in the same place for too long"
   ]
  },
  {
   "cell_type": "code",
   "execution_count": 37,
   "id": "67804fcc",
   "metadata": {},
   "outputs": [],
   "source": [
    "days = data.quit_date - data.join_date\n",
    "employment_length = np.array(list(map(lambda x: x.days, days)))"
   ]
  },
  {
   "cell_type": "code",
   "execution_count": 38,
   "id": "561203e0",
   "metadata": {},
   "outputs": [],
   "source": [
    "data['employment_length'] = employment_length"
   ]
  },
  {
   "cell_type": "code",
   "execution_count": 43,
   "id": "48c41347",
   "metadata": {},
   "outputs": [
    {
     "data": {
      "image/png": "[encoded data removed]",
      "text/plain": [
       "<Figure size 1296x432 with 1 Axes>"
      ]
     },
     "metadata": {
      "needs_background": "light"
     },
     "output_type": "display_data"
    }
   ],
   "source": [
    "fig = plt.figure(figsize = (18, 6))\n",
    "sns.histplot(employment_length, color = 'c', bins=100)\n",
    "plt.show()"
   ]
  },
  {
   "cell_type": "markdown",
   "id": "2cb236bd",
   "metadata": {},
   "source": [
    "We can see from this histgram that, there are peaks around each employee year anniversary!!"
   ]
  },
  {
   "cell_type": "code",
   "execution_count": 48,
   "id": "7f5229b5",
   "metadata": {},
   "outputs": [
    {
     "data": {
      "image/png": "[encoded data removed]",
      "text/plain": [
       "<Figure size 1296x432 with 2 Axes>"
      ]
     },
     "metadata": {
      "needs_background": "light"
     },
     "output_type": "display_data"
    }
   ],
   "source": [
    "# plot week of the year\n",
    "quit_date = data[~data['quit_date'].isnull()]\n",
    "quit_week = np.array(list(map(lambda x: x.week, quit_date['quit_date'])))\n",
    "quit_month = np.array(list(map(lambda x: x.month, quit_date['quit_date'])))\n",
    "\n",
    "fig, ax = plt.subplots(nrows= 1, ncols = 2, figsize=(18, 6))\n",
    "sns.histplot(quit_week, bins = len(np.unique(quit_week)), color = 'm', ax=ax[0])\n",
    "sns.histplot(quit_month, bins = len(np.unique(quit_month)), color = 'b', ax = ax[1])\n",
    "plt.show()"
   ]
  },
  {
   "cell_type": "markdown",
   "id": "f4d04921",
   "metadata": {},
   "source": [
    "We can see there is no big difference among the week-of-year or month-of-year!"
   ]
  },
  {
   "cell_type": "markdown",
   "id": "b82143cc",
   "metadata": {},
   "source": [
    "### 3. Find the characteristics of people who quit early"
   ]
  },
  {
   "cell_type": "markdown",
   "id": "f561badc",
   "metadata": {},
   "source": [
    "Looking at the histogram of employment_length, it looks like we could define early quitters as those people who quit within 1 yr or so.\n",
    "\n",
    "So, let’s create two classes of users : quit within 13 months or not (if they haven’t been in the current company for at least 13 months, we remove them)"
   ]
  },
  {
   "cell_type": "code",
   "execution_count": 73,
   "id": "e8a2ce29",
   "metadata": {},
   "outputs": [],
   "source": [
    "df = data[data['join_date']<(pd.to_datetime('2015-12-13')-pd.Timedelta(365+31, unit='d'))]"
   ]
  },
  {
   "cell_type": "code",
   "execution_count": 74,
   "id": "c3730c3e",
   "metadata": {},
   "outputs": [],
   "source": [
    "early_quitters = []\n",
    "for i in range(df.shape[0]):\n",
    "    if df['quit_date'].isnull().iloc[i]:\n",
    "        early_quitters.append(0)\n",
    "    elif (df['quit_date'].iloc[i] - df['join_date'].iloc[i]).days>(365+31):\n",
    "        early_quitters.append(0)\n",
    "    else:\n",
    "        early_quitters.append(1)\n",
    "df['early_quitters'] = early_quitters"
   ]
  },
  {
   "cell_type": "code",
   "execution_count": 75,
   "id": "d9f06efc",
   "metadata": {},
   "outputs": [
    {
     "data": {
      "text/html": [
       "<div>\n",
       "<style scoped>\n",
       "    .dataframe tbody tr th:only-of-type {\n",
       "        vertical-align: middle;\n",
       "    }\n",
       "\n",
       "    .dataframe tbody tr th {\n",
       "        vertical-align: top;\n",
       "    }\n",
       "\n",
       "    .dataframe thead th {\n",
       "        text-align: right;\n",
       "    }\n",
       "</style>\n",
       "<table border=\"1\" class=\"dataframe\">\n",
       "  <thead>\n",
       "    <tr style=\"text-align: right;\">\n",
       "      <th></th>\n",
       "      <th>employee_id</th>\n",
       "      <th>company_id</th>\n",
       "      <th>dept</th>\n",
       "      <th>seniority</th>\n",
       "      <th>salary</th>\n",
       "      <th>join_date</th>\n",
       "      <th>quit_date</th>\n",
       "      <th>employment_length</th>\n",
       "      <th>early_quitters</th>\n",
       "    </tr>\n",
       "  </thead>\n",
       "  <tbody>\n",
       "    <tr>\n",
       "      <th>1</th>\n",
       "      <td>13021.0</td>\n",
       "      <td>7</td>\n",
       "      <td>customer_service</td>\n",
       "      <td>28</td>\n",
       "      <td>89000.0</td>\n",
       "      <td>2014-03-24</td>\n",
       "      <td>2015-10-30</td>\n",
       "      <td>585.0</td>\n",
       "      <td>0</td>\n",
       "    </tr>\n",
       "    <tr>\n",
       "      <th>2</th>\n",
       "      <td>825355.0</td>\n",
       "      <td>7</td>\n",
       "      <td>marketing</td>\n",
       "      <td>20</td>\n",
       "      <td>183000.0</td>\n",
       "      <td>2013-04-29</td>\n",
       "      <td>2014-04-04</td>\n",
       "      <td>340.0</td>\n",
       "      <td>1</td>\n",
       "    </tr>\n",
       "    <tr>\n",
       "      <th>3</th>\n",
       "      <td>927315.0</td>\n",
       "      <td>4</td>\n",
       "      <td>marketing</td>\n",
       "      <td>14</td>\n",
       "      <td>101000.0</td>\n",
       "      <td>2014-10-13</td>\n",
       "      <td>NaT</td>\n",
       "      <td>NaN</td>\n",
       "      <td>0</td>\n",
       "    </tr>\n",
       "    <tr>\n",
       "      <th>4</th>\n",
       "      <td>662910.0</td>\n",
       "      <td>7</td>\n",
       "      <td>customer_service</td>\n",
       "      <td>20</td>\n",
       "      <td>115000.0</td>\n",
       "      <td>2012-05-14</td>\n",
       "      <td>2013-06-07</td>\n",
       "      <td>389.0</td>\n",
       "      <td>1</td>\n",
       "    </tr>\n",
       "    <tr>\n",
       "      <th>5</th>\n",
       "      <td>256971.0</td>\n",
       "      <td>2</td>\n",
       "      <td>data_science</td>\n",
       "      <td>23</td>\n",
       "      <td>276000.0</td>\n",
       "      <td>2011-10-17</td>\n",
       "      <td>2014-08-22</td>\n",
       "      <td>1040.0</td>\n",
       "      <td>0</td>\n",
       "    </tr>\n",
       "  </tbody>\n",
       "</table>\n",
       "</div>"
      ],
      "text/plain": [
       "   employee_id  company_id              dept  seniority    salary  join_date  \\\n",
       "1      13021.0           7  customer_service         28   89000.0 2014-03-24   \n",
       "2     825355.0           7         marketing         20  183000.0 2013-04-29   \n",
       "3     927315.0           4         marketing         14  101000.0 2014-10-13   \n",
       "4     662910.0           7  customer_service         20  115000.0 2012-05-14   \n",
       "5     256971.0           2      data_science         23  276000.0 2011-10-17   \n",
       "\n",
       "   quit_date  employment_length  early_quitters  \n",
       "1 2015-10-30              585.0               0  \n",
       "2 2014-04-04              340.0               1  \n",
       "3        NaT                NaN               0  \n",
       "4 2013-06-07              389.0               1  \n",
       "5 2014-08-22             1040.0               0  "
      ]
     },
     "execution_count": 75,
     "metadata": {},
     "output_type": "execute_result"
    }
   ],
   "source": [
    "df.head()"
   ]
  },
  {
   "cell_type": "code",
   "execution_count": 117,
   "id": "cde3b520",
   "metadata": {},
   "outputs": [],
   "source": [
    "#=================================================\n",
    "#Random Forest\n",
    "#=================================================\n",
    "#We are performing a numerical encoding to the categorical features, using the sklearn label encoder.\n",
    "df['company_id'] = df['company_id'].astype(object)\n",
    "from sklearn.preprocessing import LabelEncoder\n",
    "for feature in df.select_dtypes(include='object'):\n",
    "    lbl_enc = LabelEncoder()\n",
    "    lbl_enc.fit(df[feature])\n",
    "    df[feature] = lbl_enc.transform(df[feature])"
   ]
  },
  {
   "cell_type": "code",
   "execution_count": 118,
   "id": "913bf9b4",
   "metadata": {},
   "outputs": [],
   "source": [
    "feature = ['company_id', 'seniority','salary','dept']\n",
    "Y = df['early_quitters']\n",
    "model = RandomForestClassifier()\n",
    "model.fit(df[feature], Y)\n",
    "feature_importances = model.feature_importances_"
   ]
  },
  {
   "cell_type": "code",
   "execution_count": 119,
   "id": "eb5d27a4",
   "metadata": {},
   "outputs": [
    {
     "data": {
      "image/png": "[encoded data removed]",
      "text/plain": [
       "<Figure size 1152x576 with 1 Axes>"
      ]
     },
     "metadata": {
      "needs_background": "light"
     },
     "output_type": "display_data"
    }
   ],
   "source": [
    "columns = ['feature', 'value']\n",
    "importance = pd.DataFrame(feature_importances, index=feature).reset_index()\n",
    "importance.columns = columns\n",
    "fig = plt.figure(figsize = (16, 8))\n",
    "sns.barplot(x='feature', y ='value', data=importance)\n",
    "plt.show()"
   ]
  },
  {
   "cell_type": "code",
   "execution_count": 120,
   "id": "4c68f932",
   "metadata": {},
   "outputs": [],
   "source": [
    "#=================================================\n",
    "#Decision Tree 1\n",
    "#=================================================\n",
    "X = df[['seniority','salary']]\n",
    "y = df['early_quitters']\n",
    "dept = pd.get_dummies(df['dept'],drop_first=True,prefix='dept')\n",
    "company = pd.get_dummies(df['company_id'],drop_first=True,prefix='company')\n",
    "X = pd.concat([X, dept, company], axis=1)"
   ]
  },
  {
   "cell_type": "code",
   "execution_count": 151,
   "id": "a5f3fa78",
   "metadata": {},
   "outputs": [],
   "source": [
    "from sklearn.tree import DecisionTreeClassifier\n",
    "clf = DecisionTreeClassifier(max_depth=3, min_samples_leaf=30, random_state=20220718,class_weight=\"balanced\")\n",
    "clf = clf.fit(X=X , y=y)"
   ]
  },
  {
   "cell_type": "code",
   "execution_count": 152,
   "id": "6c180afe",
   "metadata": {},
   "outputs": [
    {
     "name": "stdout",
     "output_type": "stream",
     "text": [
      "salary     | 0.97333\n",
      "seniority  | 0.01667\n",
      "company_8  | 0.01000\n",
      "dept_1     | 0.00000\n",
      "dept_2     | 0.00000\n",
      "dept_3     | 0.00000\n",
      "dept_4     | 0.00000\n",
      "dept_5     | 0.00000\n",
      "company_1  | 0.00000\n",
      "company_2  | 0.00000\n",
      "company_3  | 0.00000\n",
      "company_4  | 0.00000\n",
      "company_5  | 0.00000\n",
      "company_6  | 0.00000\n",
      "company_7  | 0.00000\n",
      "company_9  | 0.00000\n",
      "company_10 | 0.00000\n",
      "company_11 | 0.00000\n"
     ]
    }
   ],
   "source": [
    "# Feature importance\n",
    "features = list(X.columns)\n",
    "targets = ['Not quit', 'Quit']\n",
    "importance = sorted(zip(features, clf.feature_importances_), key=lambda x:x[1], reverse=True)\n",
    "for feature, val in importance:\n",
    "    print('{0:10s} | {1:.5f}'.format(feature, val))"
   ]
  },
  {
   "cell_type": "code",
   "execution_count": 153,
   "id": "2bbe12f3",
   "metadata": {},
   "outputs": [
    {
     "data": {
      "image/png": "[encoded data removed]",
      "text/plain": [
       "<Figure size 1296x864 with 1 Axes>"
      ]
     },
     "metadata": {
      "needs_background": "light"
     },
     "output_type": "display_data"
    }
   ],
   "source": [
    "from sklearn.tree import plot_tree # tree diagram\n",
    "plt.figure(figsize=(18,12))  # set plot size (denoted in inches)\n",
    "tree.plot_tree(clf, fontsize=10, feature_names=features,  \n",
    "                   class_names=targets,\n",
    "                   filled=True)\n",
    "plt.show()"
   ]
  },
  {
   "cell_type": "markdown",
   "id": "2d7a62f4",
   "metadata": {},
   "source": [
    "Not very surprising! Salary is what matters the most. After all, it probably has within it information about the other variables too. That is, seniority, dept and company impact salary. So salary carries pretty much all the information available.\n",
    "\n",
    "It is interesting though that, looking at the terminal nodes, the way the tree split is: If salary between 62500 and 224500, the employee has higher probability of being an early quitter, otherwise she doesn’t. That means that people who make a lot of money and very little are not likely to quit (“little money” by Silicon Valley standards)."
   ]
  },
  {
   "cell_type": "markdown",
   "id": "6aa1965d",
   "metadata": {},
   "source": [
    "#### By plotting the proportion of early quitter by salary percentile, this becomes quite clear:"
   ]
  },
  {
   "cell_type": "code",
   "execution_count": 222,
   "id": "23b6ad5e",
   "metadata": {},
   "outputs": [],
   "source": [
    "df['Percentile'] = pd.cut(df.salary, bins=20, labels=False)+1\n"
   ]
  },
  {
   "cell_type": "code",
   "execution_count": 223,
   "id": "79b02709",
   "metadata": {},
   "outputs": [],
   "source": [
    "df_by_percentile = df[df['early_quitters']==1].groupby('Percentile')['early_quitters'].count()\n",
    "total = df.groupby('Percentile')['early_quitters'].count()"
   ]
  },
  {
   "cell_type": "code",
   "execution_count": 224,
   "id": "bebc689a",
   "metadata": {},
   "outputs": [
    {
     "data": {
      "image/png": "[encoded data removed]",
      "text/plain": [
       "<Figure size 864x432 with 1 Axes>"
      ]
     },
     "metadata": {
      "needs_background": "light"
     },
     "output_type": "display_data"
    }
   ],
   "source": [
    "fig = plt.figure(figsize = (12,6))\n",
    "plt.plot(df_by_percentile/total)\n",
    "plt.show()"
   ]
  },
  {
   "cell_type": "markdown",
   "id": "d989e5fb",
   "metadata": {},
   "source": [
    "### Conclusion"
   ]
  },
  {
   "cell_type": "markdown",
   "id": "8394e5a9",
   "metadata": {},
   "source": [
    "1. Given how important is salary, I would definitely love to have as a variable the salary the employee who quit was offered in the next job. Otherwise, things like: promotions or raises received during the employee tenure would be interesting.\n",
    "\n",
    "2. The major findings are that employees quit at year anniversaries, this makes sense. Even if you don’t like your current job, you often stay for 1 yr before quitting + you often get stocks after 1 yr so it makes sense to wait. Also, the beginning of the year is well known to be the best time to change job: companies are hiring more and you often want to stay until end of Dec to get the calendar year bonus.\n",
    "\n",
    "3. Employees with low and high salaries are less likely to quit. Probably because employees with high salaries are happy there and employees with low salaries are not that marketable, so they have a hard time finding a new job."
   ]
  },
  {
   "cell_type": "code",
   "execution_count": null,
   "id": "53007433",
   "metadata": {},
   "outputs": [],
   "source": []
  }
 ],
 "metadata": {
  "kernelspec": {
   "display_name": "Python [conda env:py3-TF2.0]",
   "language": "python",
   "name": "conda-env-py3-TF2.0-py"
  },
  "language_info": {
   "codemirror_mode": {
    "name": "ipython",
    "version": 3
   },
   "file_extension": ".py",
   "mimetype": "text/x-python",
   "name": "python",
   "nbconvert_exporter": "python",
   "pygments_lexer": "ipython3",
   "version": "3.8.12"
  }
 },
 "nbformat": 4,
 "nbformat_minor": 5
}
